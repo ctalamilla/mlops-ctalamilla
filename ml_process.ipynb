{
 "cells": [
  {
   "cell_type": "code",
   "execution_count": 38,
   "metadata": {},
   "outputs": [],
   "source": [
    "import pandas as pd \n",
    "from datetime import datetime\n",
    "import numpy as np\n",
    "import matplotlib.pyplot as plt"
   ]
  },
  {
   "cell_type": "code",
   "execution_count": 39,
   "metadata": {},
   "outputs": [],
   "source": [
    "from sklearn.model_selection import train_test_split\n",
    "from sklearn.tree import DecisionTreeRegressor\n",
    "from sklearn import tree\n",
    "from sklearn.metrics import mean_squared_error, mean_absolute_error"
   ]
  },
  {
   "cell_type": "code",
   "execution_count": 68,
   "metadata": {},
   "outputs": [],
   "source": [
    "from sklearn.preprocessing import StandardScaler\n",
    "from sklearn.model_selection import train_test_split\n",
    "from sklearn.model_selection import cross_val_score\n",
    "from sklearn.metrics import mean_squared_error\n",
    "from sklearn.metrics import mean_absolute_error\n",
    "from sklearn.tree import DecisionTreeRegressor\n",
    "from sklearn.ensemble import RandomForestRegressor\n",
    "from sklearn.model_selection import RandomizedSearchCV\n",
    "from sklearn.model_selection import GridSearchCV\n",
    "from sklearn.linear_model import LinearRegression\n",
    "from sklearn import linear_model\n",
    "from sklearn.model_selection import cross_validate\n",
    "\n",
    "\n",
    "from sklearn.compose import ColumnTransformer\n",
    "from sklearn.datasets import fetch_openml\n",
    "from sklearn.pipeline import Pipeline\n",
    "from sklearn.impute import SimpleImputer\n",
    "from sklearn.preprocessing import StandardScaler, OneHotEncoder\n",
    "from sklearn.linear_model import LogisticRegression\n",
    "from sklearn.model_selection import train_test_split, GridSearchCV\n"
   ]
  },
  {
   "cell_type": "code",
   "execution_count": 115,
   "metadata": {},
   "outputs": [],
   "source": [
    "data = pd.read_json('./datalake/input_to_model.json')"
   ]
  },
  {
   "cell_type": "code",
   "execution_count": 116,
   "metadata": {},
   "outputs": [
    {
     "data": {
      "text/html": [
       "<div>\n",
       "<style scoped>\n",
       "    .dataframe tbody tr th:only-of-type {\n",
       "        vertical-align: middle;\n",
       "    }\n",
       "\n",
       "    .dataframe tbody tr th {\n",
       "        vertical-align: top;\n",
       "    }\n",
       "\n",
       "    .dataframe thead th {\n",
       "        text-align: right;\n",
       "    }\n",
       "</style>\n",
       "<table border=\"1\" class=\"dataframe\">\n",
       "  <thead>\n",
       "    <tr style=\"text-align: right;\">\n",
       "      <th></th>\n",
       "      <th>fecha</th>\n",
       "      <th>temp_out</th>\n",
       "      <th>hum_out</th>\n",
       "      <th>rainfall_mm</th>\n",
       "      <th>wind_speed_avg</th>\n",
       "      <th>wind_speed_hi</th>\n",
       "      <th>valor</th>\n",
       "      <th>sitio</th>\n",
       "    </tr>\n",
       "  </thead>\n",
       "  <tbody>\n",
       "    <tr>\n",
       "      <th>0</th>\n",
       "      <td>2008-02-26</td>\n",
       "      <td>8.860417</td>\n",
       "      <td>53.791667</td>\n",
       "      <td>0.0</td>\n",
       "      <td>9.020833</td>\n",
       "      <td>88</td>\n",
       "      <td>33.0</td>\n",
       "      <td>20V (20V)</td>\n",
       "    </tr>\n",
       "    <tr>\n",
       "      <th>1</th>\n",
       "      <td>2008-02-29</td>\n",
       "      <td>8.293478</td>\n",
       "      <td>27.369565</td>\n",
       "      <td>0.0</td>\n",
       "      <td>12.543478</td>\n",
       "      <td>61</td>\n",
       "      <td>13.0</td>\n",
       "      <td>20V (20V)</td>\n",
       "    </tr>\n",
       "    <tr>\n",
       "      <th>2</th>\n",
       "      <td>2008-03-03</td>\n",
       "      <td>5.885417</td>\n",
       "      <td>53.729167</td>\n",
       "      <td>0.0</td>\n",
       "      <td>8.354167</td>\n",
       "      <td>62</td>\n",
       "      <td>6.0</td>\n",
       "      <td>20V (20V)</td>\n",
       "    </tr>\n",
       "    <tr>\n",
       "      <th>3</th>\n",
       "      <td>2008-03-06</td>\n",
       "      <td>5.006250</td>\n",
       "      <td>15.437500</td>\n",
       "      <td>0.0</td>\n",
       "      <td>13.812500</td>\n",
       "      <td>53</td>\n",
       "      <td>38.0</td>\n",
       "      <td>20V (20V)</td>\n",
       "    </tr>\n",
       "    <tr>\n",
       "      <th>4</th>\n",
       "      <td>2008-03-12</td>\n",
       "      <td>7.102083</td>\n",
       "      <td>25.625000</td>\n",
       "      <td>0.0</td>\n",
       "      <td>15.958333</td>\n",
       "      <td>77</td>\n",
       "      <td>19.0</td>\n",
       "      <td>20V (20V)</td>\n",
       "    </tr>\n",
       "    <tr>\n",
       "      <th>...</th>\n",
       "      <td>...</td>\n",
       "      <td>...</td>\n",
       "      <td>...</td>\n",
       "      <td>...</td>\n",
       "      <td>...</td>\n",
       "      <td>...</td>\n",
       "      <td>...</td>\n",
       "      <td>...</td>\n",
       "    </tr>\n",
       "    <tr>\n",
       "      <th>2706</th>\n",
       "      <td>2022-09-26</td>\n",
       "      <td>1.970833</td>\n",
       "      <td>14.250000</td>\n",
       "      <td>0.0</td>\n",
       "      <td>16.979167</td>\n",
       "      <td>67</td>\n",
       "      <td>72.0</td>\n",
       "      <td>STO-D (STO-D)</td>\n",
       "    </tr>\n",
       "    <tr>\n",
       "      <th>2707</th>\n",
       "      <td>2022-09-26</td>\n",
       "      <td>1.970833</td>\n",
       "      <td>14.250000</td>\n",
       "      <td>0.0</td>\n",
       "      <td>16.979167</td>\n",
       "      <td>67</td>\n",
       "      <td>124.0</td>\n",
       "      <td>OROS (OROS)</td>\n",
       "    </tr>\n",
       "    <tr>\n",
       "      <th>2708</th>\n",
       "      <td>2022-09-26</td>\n",
       "      <td>1.970833</td>\n",
       "      <td>14.250000</td>\n",
       "      <td>0.0</td>\n",
       "      <td>16.979167</td>\n",
       "      <td>67</td>\n",
       "      <td>10.0</td>\n",
       "      <td>DOMO (DOMO)</td>\n",
       "    </tr>\n",
       "    <tr>\n",
       "      <th>2709</th>\n",
       "      <td>2022-09-26</td>\n",
       "      <td>1.970833</td>\n",
       "      <td>14.250000</td>\n",
       "      <td>0.0</td>\n",
       "      <td>16.979167</td>\n",
       "      <td>67</td>\n",
       "      <td>46.0</td>\n",
       "      <td>OROS2 (OROS2)</td>\n",
       "    </tr>\n",
       "    <tr>\n",
       "      <th>2710</th>\n",
       "      <td>2022-09-26</td>\n",
       "      <td>1.970833</td>\n",
       "      <td>14.250000</td>\n",
       "      <td>0.0</td>\n",
       "      <td>16.979167</td>\n",
       "      <td>67</td>\n",
       "      <td>5.0</td>\n",
       "      <td>20V (20V)</td>\n",
       "    </tr>\n",
       "  </tbody>\n",
       "</table>\n",
       "<p>2711 rows × 8 columns</p>\n",
       "</div>"
      ],
      "text/plain": [
       "           fecha  temp_out    hum_out  rainfall_mm  wind_speed_avg  \\\n",
       "0     2008-02-26  8.860417  53.791667          0.0        9.020833   \n",
       "1     2008-02-29  8.293478  27.369565          0.0       12.543478   \n",
       "2     2008-03-03  5.885417  53.729167          0.0        8.354167   \n",
       "3     2008-03-06  5.006250  15.437500          0.0       13.812500   \n",
       "4     2008-03-12  7.102083  25.625000          0.0       15.958333   \n",
       "...          ...       ...        ...          ...             ...   \n",
       "2706  2022-09-26  1.970833  14.250000          0.0       16.979167   \n",
       "2707  2022-09-26  1.970833  14.250000          0.0       16.979167   \n",
       "2708  2022-09-26  1.970833  14.250000          0.0       16.979167   \n",
       "2709  2022-09-26  1.970833  14.250000          0.0       16.979167   \n",
       "2710  2022-09-26  1.970833  14.250000          0.0       16.979167   \n",
       "\n",
       "      wind_speed_hi  valor          sitio  \n",
       "0                88   33.0      20V (20V)  \n",
       "1                61   13.0      20V (20V)  \n",
       "2                62    6.0      20V (20V)  \n",
       "3                53   38.0      20V (20V)  \n",
       "4                77   19.0      20V (20V)  \n",
       "...             ...    ...            ...  \n",
       "2706             67   72.0  STO-D (STO-D)  \n",
       "2707             67  124.0    OROS (OROS)  \n",
       "2708             67   10.0    DOMO (DOMO)  \n",
       "2709             67   46.0  OROS2 (OROS2)  \n",
       "2710             67    5.0      20V (20V)  \n",
       "\n",
       "[2711 rows x 8 columns]"
      ]
     },
     "execution_count": 116,
     "metadata": {},
     "output_type": "execute_result"
    }
   ],
   "source": [
    "data"
   ]
  },
  {
   "cell_type": "code",
   "execution_count": 683,
   "metadata": {},
   "outputs": [],
   "source": [
    "# for i, type in enumerate(data['sitio'].unique()):\n",
    "#     p = sns.lmplot(data = data.loc[data['sitio']==type],\n",
    "#             x= 'wind_speed_hi', \n",
    "#             y = 'valor', #hue = 'property_type',\n",
    "#             #col='property_type', col_wrap=2,\n",
    "#             line_kws={\"color\":\"black\",\"alpha\":0.7,\"lw\":1},\n",
    "#             palette= 'Set1')\n",
    "#     p.set(title=type)\n",
    "#     plt.show()"
   ]
  },
  {
   "cell_type": "code",
   "execution_count": 112,
   "metadata": {},
   "outputs": [],
   "source": [
    "data=data.loc[data['sitio']=='NP3 (NP3)']"
   ]
  },
  {
   "cell_type": "code",
   "execution_count": 74,
   "metadata": {},
   "outputs": [
    {
     "data": {
      "text/plain": [
       "<AxesSubplot:xlabel='valor', ylabel='Count'>"
      ]
     },
     "execution_count": 74,
     "metadata": {},
     "output_type": "execute_result"
    },
    {
     "data": {
      "image/png": "[encoded data removed]",
      "text/plain": [
       "<Figure size 432x288 with 1 Axes>"
      ]
     },
     "metadata": {
      "needs_background": "light"
     },
     "output_type": "display_data"
    }
   ],
   "source": [
    "sns.histplot(data=data.loc[data['valor']<400], x= 'valor')"
   ]
  },
  {
   "cell_type": "code",
   "execution_count": 50,
   "metadata": {},
   "outputs": [
    {
     "name": "stdout",
     "output_type": "stream",
     "text": [
      "<class 'pandas.core.frame.DataFrame'>\n",
      "Int64Index: 2711 entries, 0 to 2710\n",
      "Data columns (total 8 columns):\n",
      " #   Column          Non-Null Count  Dtype  \n",
      "---  ------          --------------  -----  \n",
      " 0   fecha           2711 non-null   object \n",
      " 1   temp_out        2711 non-null   float64\n",
      " 2   hum_out         2711 non-null   float64\n",
      " 3   rainfall_mm     2711 non-null   float64\n",
      " 4   wind_speed_avg  2711 non-null   float64\n",
      " 5   wind_speed_hi   2711 non-null   int64  \n",
      " 6   valor           2711 non-null   float64\n",
      " 7   sitio           2711 non-null   object \n",
      "dtypes: float64(5), int64(1), object(2)\n",
      "memory usage: 190.6+ KB\n"
     ]
    }
   ],
   "source": [
    "data.info()"
   ]
  },
  {
   "cell_type": "code",
   "execution_count": 82,
   "metadata": {},
   "outputs": [
    {
     "data": {
      "text/html": [
       "<div>\n",
       "<style scoped>\n",
       "    .dataframe tbody tr th:only-of-type {\n",
       "        vertical-align: middle;\n",
       "    }\n",
       "\n",
       "    .dataframe tbody tr th {\n",
       "        vertical-align: top;\n",
       "    }\n",
       "\n",
       "    .dataframe thead th {\n",
       "        text-align: right;\n",
       "    }\n",
       "</style>\n",
       "<table border=\"1\" class=\"dataframe\">\n",
       "  <thead>\n",
       "    <tr style=\"text-align: right;\">\n",
       "      <th></th>\n",
       "      <th>20V (20V)</th>\n",
       "      <th>CHIN (CHIN)</th>\n",
       "      <th>CIEN (CIEN)</th>\n",
       "      <th>COY (COY)</th>\n",
       "      <th>DCOLAS (DCOLAS)</th>\n",
       "      <th>DOMO (DOMO)</th>\n",
       "      <th>LIV (LIV)</th>\n",
       "      <th>NP3 (NP3)</th>\n",
       "      <th>NP4 (NP4)</th>\n",
       "      <th>OROS (OROS)</th>\n",
       "      <th>OROS2 (OROS2)</th>\n",
       "      <th>S-MINA (S-MINA)</th>\n",
       "      <th>STO-D (STO-D)</th>\n",
       "      <th>VETA (VETA)</th>\n",
       "    </tr>\n",
       "  </thead>\n",
       "  <tbody>\n",
       "    <tr>\n",
       "      <th>0</th>\n",
       "      <td>1</td>\n",
       "      <td>0</td>\n",
       "      <td>0</td>\n",
       "      <td>0</td>\n",
       "      <td>0</td>\n",
       "      <td>0</td>\n",
       "      <td>0</td>\n",
       "      <td>0</td>\n",
       "      <td>0</td>\n",
       "      <td>0</td>\n",
       "      <td>0</td>\n",
       "      <td>0</td>\n",
       "      <td>0</td>\n",
       "      <td>0</td>\n",
       "    </tr>\n",
       "    <tr>\n",
       "      <th>1</th>\n",
       "      <td>1</td>\n",
       "      <td>0</td>\n",
       "      <td>0</td>\n",
       "      <td>0</td>\n",
       "      <td>0</td>\n",
       "      <td>0</td>\n",
       "      <td>0</td>\n",
       "      <td>0</td>\n",
       "      <td>0</td>\n",
       "      <td>0</td>\n",
       "      <td>0</td>\n",
       "      <td>0</td>\n",
       "      <td>0</td>\n",
       "      <td>0</td>\n",
       "    </tr>\n",
       "    <tr>\n",
       "      <th>2</th>\n",
       "      <td>1</td>\n",
       "      <td>0</td>\n",
       "      <td>0</td>\n",
       "      <td>0</td>\n",
       "      <td>0</td>\n",
       "      <td>0</td>\n",
       "      <td>0</td>\n",
       "      <td>0</td>\n",
       "      <td>0</td>\n",
       "      <td>0</td>\n",
       "      <td>0</td>\n",
       "      <td>0</td>\n",
       "      <td>0</td>\n",
       "      <td>0</td>\n",
       "    </tr>\n",
       "    <tr>\n",
       "      <th>3</th>\n",
       "      <td>1</td>\n",
       "      <td>0</td>\n",
       "      <td>0</td>\n",
       "      <td>0</td>\n",
       "      <td>0</td>\n",
       "      <td>0</td>\n",
       "      <td>0</td>\n",
       "      <td>0</td>\n",
       "      <td>0</td>\n",
       "      <td>0</td>\n",
       "      <td>0</td>\n",
       "      <td>0</td>\n",
       "      <td>0</td>\n",
       "      <td>0</td>\n",
       "    </tr>\n",
       "    <tr>\n",
       "      <th>4</th>\n",
       "      <td>1</td>\n",
       "      <td>0</td>\n",
       "      <td>0</td>\n",
       "      <td>0</td>\n",
       "      <td>0</td>\n",
       "      <td>0</td>\n",
       "      <td>0</td>\n",
       "      <td>0</td>\n",
       "      <td>0</td>\n",
       "      <td>0</td>\n",
       "      <td>0</td>\n",
       "      <td>0</td>\n",
       "      <td>0</td>\n",
       "      <td>0</td>\n",
       "    </tr>\n",
       "    <tr>\n",
       "      <th>...</th>\n",
       "      <td>...</td>\n",
       "      <td>...</td>\n",
       "      <td>...</td>\n",
       "      <td>...</td>\n",
       "      <td>...</td>\n",
       "      <td>...</td>\n",
       "      <td>...</td>\n",
       "      <td>...</td>\n",
       "      <td>...</td>\n",
       "      <td>...</td>\n",
       "      <td>...</td>\n",
       "      <td>...</td>\n",
       "      <td>...</td>\n",
       "      <td>...</td>\n",
       "    </tr>\n",
       "    <tr>\n",
       "      <th>2706</th>\n",
       "      <td>0</td>\n",
       "      <td>0</td>\n",
       "      <td>0</td>\n",
       "      <td>0</td>\n",
       "      <td>0</td>\n",
       "      <td>0</td>\n",
       "      <td>0</td>\n",
       "      <td>0</td>\n",
       "      <td>0</td>\n",
       "      <td>0</td>\n",
       "      <td>0</td>\n",
       "      <td>0</td>\n",
       "      <td>1</td>\n",
       "      <td>0</td>\n",
       "    </tr>\n",
       "    <tr>\n",
       "      <th>2707</th>\n",
       "      <td>0</td>\n",
       "      <td>0</td>\n",
       "      <td>0</td>\n",
       "      <td>0</td>\n",
       "      <td>0</td>\n",
       "      <td>0</td>\n",
       "      <td>0</td>\n",
       "      <td>0</td>\n",
       "      <td>0</td>\n",
       "      <td>1</td>\n",
       "      <td>0</td>\n",
       "      <td>0</td>\n",
       "      <td>0</td>\n",
       "      <td>0</td>\n",
       "    </tr>\n",
       "    <tr>\n",
       "      <th>2708</th>\n",
       "      <td>0</td>\n",
       "      <td>0</td>\n",
       "      <td>0</td>\n",
       "      <td>0</td>\n",
       "      <td>0</td>\n",
       "      <td>1</td>\n",
       "      <td>0</td>\n",
       "      <td>0</td>\n",
       "      <td>0</td>\n",
       "      <td>0</td>\n",
       "      <td>0</td>\n",
       "      <td>0</td>\n",
       "      <td>0</td>\n",
       "      <td>0</td>\n",
       "    </tr>\n",
       "    <tr>\n",
       "      <th>2709</th>\n",
       "      <td>0</td>\n",
       "      <td>0</td>\n",
       "      <td>0</td>\n",
       "      <td>0</td>\n",
       "      <td>0</td>\n",
       "      <td>0</td>\n",
       "      <td>0</td>\n",
       "      <td>0</td>\n",
       "      <td>0</td>\n",
       "      <td>0</td>\n",
       "      <td>1</td>\n",
       "      <td>0</td>\n",
       "      <td>0</td>\n",
       "      <td>0</td>\n",
       "    </tr>\n",
       "    <tr>\n",
       "      <th>2710</th>\n",
       "      <td>1</td>\n",
       "      <td>0</td>\n",
       "      <td>0</td>\n",
       "      <td>0</td>\n",
       "      <td>0</td>\n",
       "      <td>0</td>\n",
       "      <td>0</td>\n",
       "      <td>0</td>\n",
       "      <td>0</td>\n",
       "      <td>0</td>\n",
       "      <td>0</td>\n",
       "      <td>0</td>\n",
       "      <td>0</td>\n",
       "      <td>0</td>\n",
       "    </tr>\n",
       "  </tbody>\n",
       "</table>\n",
       "<p>2711 rows × 14 columns</p>\n",
       "</div>"
      ],
      "text/plain": [
       "      20V (20V)  CHIN (CHIN)  CIEN (CIEN)  COY (COY)  DCOLAS (DCOLAS)  \\\n",
       "0             1            0            0          0                0   \n",
       "1             1            0            0          0                0   \n",
       "2             1            0            0          0                0   \n",
       "3             1            0            0          0                0   \n",
       "4             1            0            0          0                0   \n",
       "...         ...          ...          ...        ...              ...   \n",
       "2706          0            0            0          0                0   \n",
       "2707          0            0            0          0                0   \n",
       "2708          0            0            0          0                0   \n",
       "2709          0            0            0          0                0   \n",
       "2710          1            0            0          0                0   \n",
       "\n",
       "      DOMO (DOMO)  LIV (LIV)  NP3 (NP3)  NP4 (NP4)  OROS (OROS)  \\\n",
       "0               0          0          0          0            0   \n",
       "1               0          0          0          0            0   \n",
       "2               0          0          0          0            0   \n",
       "3               0          0          0          0            0   \n",
       "4               0          0          0          0            0   \n",
       "...           ...        ...        ...        ...          ...   \n",
       "2706            0          0          0          0            0   \n",
       "2707            0          0          0          0            1   \n",
       "2708            1          0          0          0            0   \n",
       "2709            0          0          0          0            0   \n",
       "2710            0          0          0          0            0   \n",
       "\n",
       "      OROS2 (OROS2)  S-MINA (S-MINA)  STO-D (STO-D)  VETA (VETA)  \n",
       "0                 0                0              0            0  \n",
       "1                 0                0              0            0  \n",
       "2                 0                0              0            0  \n",
       "3                 0                0              0            0  \n",
       "4                 0                0              0            0  \n",
       "...             ...              ...            ...          ...  \n",
       "2706              0                0              1            0  \n",
       "2707              0                0              0            0  \n",
       "2708              0                0              0            0  \n",
       "2709              1                0              0            0  \n",
       "2710              0                0              0            0  \n",
       "\n",
       "[2711 rows x 14 columns]"
      ]
     },
     "execution_count": 82,
     "metadata": {},
     "output_type": "execute_result"
    }
   ],
   "source": [
    "pd.get_dummies(data['sitio'])"
   ]
  },
  {
   "cell_type": "code",
   "execution_count": 119,
   "metadata": {},
   "outputs": [],
   "source": [
    "data = data.loc[data['valor']<300]"
   ]
  },
  {
   "cell_type": "code",
   "execution_count": 51,
   "metadata": {},
   "outputs": [],
   "source": [
    "X = pd.concat([ data.drop(['sitio', 'fecha', 'valor'], axis=1), pd.get_dummies(data['sitio'])], axis=1)"
   ]
  },
  {
   "cell_type": "code",
   "execution_count": 84,
   "metadata": {},
   "outputs": [
    {
     "data": {
      "text/html": [
       "<div>\n",
       "<style scoped>\n",
       "    .dataframe tbody tr th:only-of-type {\n",
       "        vertical-align: middle;\n",
       "    }\n",
       "\n",
       "    .dataframe tbody tr th {\n",
       "        vertical-align: top;\n",
       "    }\n",
       "\n",
       "    .dataframe thead th {\n",
       "        text-align: right;\n",
       "    }\n",
       "</style>\n",
       "<table border=\"1\" class=\"dataframe\">\n",
       "  <thead>\n",
       "    <tr style=\"text-align: right;\">\n",
       "      <th></th>\n",
       "      <th>temp_out</th>\n",
       "      <th>hum_out</th>\n",
       "      <th>rainfall_mm</th>\n",
       "      <th>wind_speed_avg</th>\n",
       "      <th>wind_speed_hi</th>\n",
       "      <th>20V (20V)</th>\n",
       "      <th>CHIN (CHIN)</th>\n",
       "      <th>CIEN (CIEN)</th>\n",
       "      <th>COY (COY)</th>\n",
       "      <th>DCOLAS (DCOLAS)</th>\n",
       "      <th>DOMO (DOMO)</th>\n",
       "      <th>LIV (LIV)</th>\n",
       "      <th>NP3 (NP3)</th>\n",
       "      <th>NP4 (NP4)</th>\n",
       "      <th>OROS (OROS)</th>\n",
       "      <th>OROS2 (OROS2)</th>\n",
       "      <th>S-MINA (S-MINA)</th>\n",
       "      <th>STO-D (STO-D)</th>\n",
       "      <th>VETA (VETA)</th>\n",
       "    </tr>\n",
       "  </thead>\n",
       "  <tbody>\n",
       "    <tr>\n",
       "      <th>0</th>\n",
       "      <td>8.860417</td>\n",
       "      <td>53.791667</td>\n",
       "      <td>0.0</td>\n",
       "      <td>9.020833</td>\n",
       "      <td>88</td>\n",
       "      <td>1</td>\n",
       "      <td>0</td>\n",
       "      <td>0</td>\n",
       "      <td>0</td>\n",
       "      <td>0</td>\n",
       "      <td>0</td>\n",
       "      <td>0</td>\n",
       "      <td>0</td>\n",
       "      <td>0</td>\n",
       "      <td>0</td>\n",
       "      <td>0</td>\n",
       "      <td>0</td>\n",
       "      <td>0</td>\n",
       "      <td>0</td>\n",
       "    </tr>\n",
       "    <tr>\n",
       "      <th>1</th>\n",
       "      <td>8.293478</td>\n",
       "      <td>27.369565</td>\n",
       "      <td>0.0</td>\n",
       "      <td>12.543478</td>\n",
       "      <td>61</td>\n",
       "      <td>1</td>\n",
       "      <td>0</td>\n",
       "      <td>0</td>\n",
       "      <td>0</td>\n",
       "      <td>0</td>\n",
       "      <td>0</td>\n",
       "      <td>0</td>\n",
       "      <td>0</td>\n",
       "      <td>0</td>\n",
       "      <td>0</td>\n",
       "      <td>0</td>\n",
       "      <td>0</td>\n",
       "      <td>0</td>\n",
       "      <td>0</td>\n",
       "    </tr>\n",
       "    <tr>\n",
       "      <th>2</th>\n",
       "      <td>5.885417</td>\n",
       "      <td>53.729167</td>\n",
       "      <td>0.0</td>\n",
       "      <td>8.354167</td>\n",
       "      <td>62</td>\n",
       "      <td>1</td>\n",
       "      <td>0</td>\n",
       "      <td>0</td>\n",
       "      <td>0</td>\n",
       "      <td>0</td>\n",
       "      <td>0</td>\n",
       "      <td>0</td>\n",
       "      <td>0</td>\n",
       "      <td>0</td>\n",
       "      <td>0</td>\n",
       "      <td>0</td>\n",
       "      <td>0</td>\n",
       "      <td>0</td>\n",
       "      <td>0</td>\n",
       "    </tr>\n",
       "    <tr>\n",
       "      <th>3</th>\n",
       "      <td>5.006250</td>\n",
       "      <td>15.437500</td>\n",
       "      <td>0.0</td>\n",
       "      <td>13.812500</td>\n",
       "      <td>53</td>\n",
       "      <td>1</td>\n",
       "      <td>0</td>\n",
       "      <td>0</td>\n",
       "      <td>0</td>\n",
       "      <td>0</td>\n",
       "      <td>0</td>\n",
       "      <td>0</td>\n",
       "      <td>0</td>\n",
       "      <td>0</td>\n",
       "      <td>0</td>\n",
       "      <td>0</td>\n",
       "      <td>0</td>\n",
       "      <td>0</td>\n",
       "      <td>0</td>\n",
       "    </tr>\n",
       "    <tr>\n",
       "      <th>4</th>\n",
       "      <td>7.102083</td>\n",
       "      <td>25.625000</td>\n",
       "      <td>0.0</td>\n",
       "      <td>15.958333</td>\n",
       "      <td>77</td>\n",
       "      <td>1</td>\n",
       "      <td>0</td>\n",
       "      <td>0</td>\n",
       "      <td>0</td>\n",
       "      <td>0</td>\n",
       "      <td>0</td>\n",
       "      <td>0</td>\n",
       "      <td>0</td>\n",
       "      <td>0</td>\n",
       "      <td>0</td>\n",
       "      <td>0</td>\n",
       "      <td>0</td>\n",
       "      <td>0</td>\n",
       "      <td>0</td>\n",
       "    </tr>\n",
       "    <tr>\n",
       "      <th>...</th>\n",
       "      <td>...</td>\n",
       "      <td>...</td>\n",
       "      <td>...</td>\n",
       "      <td>...</td>\n",
       "      <td>...</td>\n",
       "      <td>...</td>\n",
       "      <td>...</td>\n",
       "      <td>...</td>\n",
       "      <td>...</td>\n",
       "      <td>...</td>\n",
       "      <td>...</td>\n",
       "      <td>...</td>\n",
       "      <td>...</td>\n",
       "      <td>...</td>\n",
       "      <td>...</td>\n",
       "      <td>...</td>\n",
       "      <td>...</td>\n",
       "      <td>...</td>\n",
       "      <td>...</td>\n",
       "    </tr>\n",
       "    <tr>\n",
       "      <th>2706</th>\n",
       "      <td>1.970833</td>\n",
       "      <td>14.250000</td>\n",
       "      <td>0.0</td>\n",
       "      <td>16.979167</td>\n",
       "      <td>67</td>\n",
       "      <td>0</td>\n",
       "      <td>0</td>\n",
       "      <td>0</td>\n",
       "      <td>0</td>\n",
       "      <td>0</td>\n",
       "      <td>0</td>\n",
       "      <td>0</td>\n",
       "      <td>0</td>\n",
       "      <td>0</td>\n",
       "      <td>0</td>\n",
       "      <td>0</td>\n",
       "      <td>0</td>\n",
       "      <td>1</td>\n",
       "      <td>0</td>\n",
       "    </tr>\n",
       "    <tr>\n",
       "      <th>2707</th>\n",
       "      <td>1.970833</td>\n",
       "      <td>14.250000</td>\n",
       "      <td>0.0</td>\n",
       "      <td>16.979167</td>\n",
       "      <td>67</td>\n",
       "      <td>0</td>\n",
       "      <td>0</td>\n",
       "      <td>0</td>\n",
       "      <td>0</td>\n",
       "      <td>0</td>\n",
       "      <td>0</td>\n",
       "      <td>0</td>\n",
       "      <td>0</td>\n",
       "      <td>0</td>\n",
       "      <td>1</td>\n",
       "      <td>0</td>\n",
       "      <td>0</td>\n",
       "      <td>0</td>\n",
       "      <td>0</td>\n",
       "    </tr>\n",
       "    <tr>\n",
       "      <th>2708</th>\n",
       "      <td>1.970833</td>\n",
       "      <td>14.250000</td>\n",
       "      <td>0.0</td>\n",
       "      <td>16.979167</td>\n",
       "      <td>67</td>\n",
       "      <td>0</td>\n",
       "      <td>0</td>\n",
       "      <td>0</td>\n",
       "      <td>0</td>\n",
       "      <td>0</td>\n",
       "      <td>1</td>\n",
       "      <td>0</td>\n",
       "      <td>0</td>\n",
       "      <td>0</td>\n",
       "      <td>0</td>\n",
       "      <td>0</td>\n",
       "      <td>0</td>\n",
       "      <td>0</td>\n",
       "      <td>0</td>\n",
       "    </tr>\n",
       "    <tr>\n",
       "      <th>2709</th>\n",
       "      <td>1.970833</td>\n",
       "      <td>14.250000</td>\n",
       "      <td>0.0</td>\n",
       "      <td>16.979167</td>\n",
       "      <td>67</td>\n",
       "      <td>0</td>\n",
       "      <td>0</td>\n",
       "      <td>0</td>\n",
       "      <td>0</td>\n",
       "      <td>0</td>\n",
       "      <td>0</td>\n",
       "      <td>0</td>\n",
       "      <td>0</td>\n",
       "      <td>0</td>\n",
       "      <td>0</td>\n",
       "      <td>1</td>\n",
       "      <td>0</td>\n",
       "      <td>0</td>\n",
       "      <td>0</td>\n",
       "    </tr>\n",
       "    <tr>\n",
       "      <th>2710</th>\n",
       "      <td>1.970833</td>\n",
       "      <td>14.250000</td>\n",
       "      <td>0.0</td>\n",
       "      <td>16.979167</td>\n",
       "      <td>67</td>\n",
       "      <td>1</td>\n",
       "      <td>0</td>\n",
       "      <td>0</td>\n",
       "      <td>0</td>\n",
       "      <td>0</td>\n",
       "      <td>0</td>\n",
       "      <td>0</td>\n",
       "      <td>0</td>\n",
       "      <td>0</td>\n",
       "      <td>0</td>\n",
       "      <td>0</td>\n",
       "      <td>0</td>\n",
       "      <td>0</td>\n",
       "      <td>0</td>\n",
       "    </tr>\n",
       "  </tbody>\n",
       "</table>\n",
       "<p>2711 rows × 19 columns</p>\n",
       "</div>"
      ],
      "text/plain": [
       "      temp_out    hum_out  rainfall_mm  wind_speed_avg  wind_speed_hi  \\\n",
       "0     8.860417  53.791667          0.0        9.020833             88   \n",
       "1     8.293478  27.369565          0.0       12.543478             61   \n",
       "2     5.885417  53.729167          0.0        8.354167             62   \n",
       "3     5.006250  15.437500          0.0       13.812500             53   \n",
       "4     7.102083  25.625000          0.0       15.958333             77   \n",
       "...        ...        ...          ...             ...            ...   \n",
       "2706  1.970833  14.250000          0.0       16.979167             67   \n",
       "2707  1.970833  14.250000          0.0       16.979167             67   \n",
       "2708  1.970833  14.250000          0.0       16.979167             67   \n",
       "2709  1.970833  14.250000          0.0       16.979167             67   \n",
       "2710  1.970833  14.250000          0.0       16.979167             67   \n",
       "\n",
       "      20V (20V)  CHIN (CHIN)  CIEN (CIEN)  COY (COY)  DCOLAS (DCOLAS)  \\\n",
       "0             1            0            0          0                0   \n",
       "1             1            0            0          0                0   \n",
       "2             1            0            0          0                0   \n",
       "3             1            0            0          0                0   \n",
       "4             1            0            0          0                0   \n",
       "...         ...          ...          ...        ...              ...   \n",
       "2706          0            0            0          0                0   \n",
       "2707          0            0            0          0                0   \n",
       "2708          0            0            0          0                0   \n",
       "2709          0            0            0          0                0   \n",
       "2710          1            0            0          0                0   \n",
       "\n",
       "      DOMO (DOMO)  LIV (LIV)  NP3 (NP3)  NP4 (NP4)  OROS (OROS)  \\\n",
       "0               0          0          0          0            0   \n",
       "1               0          0          0          0            0   \n",
       "2               0          0          0          0            0   \n",
       "3               0          0          0          0            0   \n",
       "4               0          0          0          0            0   \n",
       "...           ...        ...        ...        ...          ...   \n",
       "2706            0          0          0          0            0   \n",
       "2707            0          0          0          0            1   \n",
       "2708            1          0          0          0            0   \n",
       "2709            0          0          0          0            0   \n",
       "2710            0          0          0          0            0   \n",
       "\n",
       "      OROS2 (OROS2)  S-MINA (S-MINA)  STO-D (STO-D)  VETA (VETA)  \n",
       "0                 0                0              0            0  \n",
       "1                 0                0              0            0  \n",
       "2                 0                0              0            0  \n",
       "3                 0                0              0            0  \n",
       "4                 0                0              0            0  \n",
       "...             ...              ...            ...          ...  \n",
       "2706              0                0              1            0  \n",
       "2707              0                0              0            0  \n",
       "2708              0                0              0            0  \n",
       "2709              1                0              0            0  \n",
       "2710              0                0              0            0  \n",
       "\n",
       "[2711 rows x 19 columns]"
      ]
     },
     "execution_count": 84,
     "metadata": {},
     "output_type": "execute_result"
    }
   ],
   "source": [
    "X"
   ]
  },
  {
   "cell_type": "code",
   "execution_count": 85,
   "metadata": {},
   "outputs": [],
   "source": [
    "y  = data['valor']"
   ]
  },
  {
   "cell_type": "code",
   "execution_count": 86,
   "metadata": {},
   "outputs": [
    {
     "data": {
      "text/plain": [
       "0        33.0\n",
       "1        13.0\n",
       "2         6.0\n",
       "3        38.0\n",
       "4        19.0\n",
       "        ...  \n",
       "2706     72.0\n",
       "2707    124.0\n",
       "2708     10.0\n",
       "2709     46.0\n",
       "2710      5.0\n",
       "Name: valor, Length: 2711, dtype: float64"
      ]
     },
     "execution_count": 86,
     "metadata": {},
     "output_type": "execute_result"
    }
   ],
   "source": [
    "y"
   ]
  },
  {
   "cell_type": "markdown",
   "metadata": {},
   "source": [
    "### Modelado SIN ESCALADO DE DATOS"
   ]
  },
  {
   "cell_type": "markdown",
   "metadata": {},
   "source": [
    "#### Benchmark Modelo Basico Regresion Lineal"
   ]
  },
  {
   "cell_type": "code",
   "execution_count": 87,
   "metadata": {},
   "outputs": [],
   "source": [
    "X_train, X_test, y_train, y_test = train_test_split(X, y, test_size=0.3, random_state=42)"
   ]
  },
  {
   "cell_type": "code",
   "execution_count": 88,
   "metadata": {},
   "outputs": [],
   "source": [
    "\n",
    "def model_ev(X_train, X_test, y_train, y_test, model):\n",
    "  #tabla_errores = []\n",
    "  global tabla_errores, rmse_train, rmse_test, r_squared_tra, adjusted_r_squared_tra, r_squared_te, adjusted_r_squared_te, y_test_pred,y_train_pred\n",
    "  model.fit(X_train, y_train)\n",
    "  y_train_pred = model.predict(X_train) \n",
    "  y_test_pred = model.predict(X_test)\n",
    "\n",
    "  \n",
    "  # Calculo de RMSE \n",
    "  rmse_train = np.sqrt(mean_squared_error(y_train,y_train_pred))\n",
    "  rmse_test = np.sqrt(mean_squared_error(y_test, y_test_pred))\n",
    "  print(f'RMSE Train: {rmse_train}\\n')\n",
    "  print(f'RMSE Test: {rmse_test}\\n')\n",
    "  \n",
    "  # Calculo de mae \n",
    "  mae_train = mean_absolute_error(y_train,y_train_pred)\n",
    "  mae_test = mean_absolute_error(y_test, y_test_pred)\n",
    "  print(f'MAE Train: {mae_train}\\n')\n",
    "  print(f'MAE Test: {mae_test}\\n')\n",
    "\n",
    "  # Calculo de R cuadrado y R cuadrado ajustado del conjunto TRAIN\n",
    "  SS_Residual_a = sum((y_train - y_train_pred)**2)       \n",
    "  SS_Total_a = sum((y_train-np.mean(y_train))**2)     \n",
    "  r_squared_tra = 1 - (float(SS_Residual_a))/SS_Total_a\n",
    "  adjusted_r_squared_tra = 1 - (1-r_squared_tra)*(len(y)-1)/(len(y)-X.shape[1]-1)\n",
    "  print(f\"R^2(train)= {r_squared_tra}\")\n",
    "  print(f\"R^2_ajt(train)= {adjusted_r_squared_tra}\\n\")\n",
    "  \n",
    "  # Calculo de R cuadrado y R cuadrado ajustado del conjunto TEST\n",
    "  SS_Residual_b = sum((y_test - y_test_pred)**2)       \n",
    "  SS_Total_b = sum((y_test-np.mean(y_test))**2)     \n",
    "  r_squared_te = 1 - (float(SS_Residual_b))/SS_Total_b\n",
    "  adjusted_r_squared_te = 1 - (1-r_squared_te)*(len(y)-1)/(len(y)-X.shape[1]-1)\n",
    "  print(f\"R^2(test)= {r_squared_te}\") \n",
    "  print(f\"R^2_ajt(test)= {adjusted_r_squared_te}\\n\")\n",
    "  \n",
    "  #Histograma de los errores (y - y_predicho) para cada conjunto:\n",
    "  plt.figure(figsize = (12,4))\n",
    "  plt.subplot(1,2,1)\n",
    "  sns.distplot(y_train - y_train_pred, bins = 20, label = 'train')\n",
    "  sns.distplot(y_test - y_test_pred, bins = 20, label = 'test')\n",
    "  plt.xlabel('errores')\n",
    "  plt.legend()\n",
    "\n",
    "  #Scatter de y vs y-predicho para lo testeado:\n",
    "  ax = plt.subplot(1,2,2)\n",
    "  ax.scatter(y_test,y_test_pred, s =2)\n",
    "\n",
    "  "
   ]
  },
  {
   "cell_type": "code",
   "execution_count": 89,
   "metadata": {},
   "outputs": [],
   "source": [
    "def eval_model_CV (model, descr, X_, y_, folds): \n",
    "    resultado = cross_validate(model,\n",
    "                            X_,\n",
    "                            y_, \n",
    "                            cv=folds, \n",
    "                            scoring = ('neg_root_mean_squared_error','r2', 'neg_mean_absolute_error'),\n",
    "                            return_train_score= True \n",
    "                            ) \n",
    "    mae_test = np.mean(resultado['test_neg_mean_absolute_error']*-1)\n",
    "    mae_train = np.mean(resultado['train_neg_mean_absolute_error']*-1)\n",
    "    return print('MAE TEST: ',mae_test, 'MAE TRAIN: ', mae_train)"
   ]
  },
  {
   "cell_type": "code",
   "execution_count": 90,
   "metadata": {},
   "outputs": [],
   "source": [
    "linreg = LinearRegression()"
   ]
  },
  {
   "cell_type": "code",
   "execution_count": 91,
   "metadata": {},
   "outputs": [],
   "source": [
    "modelLreg = linreg.fit(X_train, y_train)"
   ]
  },
  {
   "cell_type": "code",
   "execution_count": 124,
   "metadata": {},
   "outputs": [
    {
     "name": "stdout",
     "output_type": "stream",
     "text": [
      "RMSE Train: 35.43706205820853\n",
      "\n",
      "RMSE Test: 67.43150741552105\n",
      "\n",
      "MAE Train: 31.29128821554254\n",
      "\n",
      "MAE Test: 55.94590332637115\n",
      "\n",
      "R^2(train)= 0.5059697522670569\n",
      "R^2_ajt(train)= 0.4037565975636894\n",
      "\n",
      "R^2(test)= -1.4893807237182521\n",
      "R^2_ajt(test)= -2.004425011384097\n",
      "\n"
     ]
    },
    {
     "name": "stderr",
     "output_type": "stream",
     "text": [
      "/usr/local/Caskroom/miniconda/base/envs/dhdsblend2021/lib/python3.8/site-packages/seaborn/distributions.py:2551: FutureWarning: `distplot` is a deprecated function and will be removed in a future version. Please adapt your code to use either `displot` (a figure-level function with similar flexibility) or `histplot` (an axes-level function for histograms).\n",
      "  warnings.warn(msg, FutureWarning)\n",
      "/usr/local/Caskroom/miniconda/base/envs/dhdsblend2021/lib/python3.8/site-packages/seaborn/distributions.py:2551: FutureWarning: `distplot` is a deprecated function and will be removed in a future version. Please adapt your code to use either `displot` (a figure-level function with similar flexibility) or `histplot` (an axes-level function for histograms).\n",
      "  warnings.warn(msg, FutureWarning)\n"
     ]
    },
    {
     "data": {
      "image/png": "[encoded data removed]",
      "text/plain": [
       "<Figure size 864x288 with 2 Axes>"
      ]
     },
     "metadata": {
      "needs_background": "light"
     },
     "output_type": "display_data"
    }
   ],
   "source": [
    "model_ev(X_train,X_test,y_train,y_test, modelLreg)"
   ]
  },
  {
   "cell_type": "code",
   "execution_count": 94,
   "metadata": {},
   "outputs": [
    {
     "name": "stdout",
     "output_type": "stream",
     "text": [
      "MAE TEST:  95.65874842766982 MAE TRAIN:  92.54339011319712\n"
     ]
    }
   ],
   "source": [
    "eval_model_CV(modelLreg,\"Lineal, sin optimizar\", X_test, y_test,10)"
   ]
  },
  {
   "cell_type": "markdown",
   "metadata": {},
   "source": [
    "### RandomForest"
   ]
  },
  {
   "cell_type": "code",
   "execution_count": 95,
   "metadata": {},
   "outputs": [
    {
     "data": {
      "text/plain": [
       "RandomForestRegressor(max_depth=15, random_state=42)"
      ]
     },
     "execution_count": 95,
     "metadata": {},
     "output_type": "execute_result"
    }
   ],
   "source": [
    "rf = RandomForestRegressor(random_state = 42, max_depth=15)\n",
    "rf.fit(X_train,y_train)"
   ]
  },
  {
   "cell_type": "code",
   "execution_count": 96,
   "metadata": {},
   "outputs": [
    {
     "name": "stdout",
     "output_type": "stream",
     "text": [
      "RMSE Train: 60.80845789364838\n",
      "\n",
      "RMSE Test: 194.9364090125805\n",
      "\n",
      "MAE Train: 33.93096424547917\n",
      "\n",
      "MAE Test: 77.10414044155378\n",
      "\n",
      "R^2(train)= 0.8336326086682673\n",
      "R^2_ajt(train)= 0.8324579596770734\n",
      "\n",
      "R^2(test)= 0.11504514298955582\n",
      "R^2_ajt(test)= 0.1087968552588986\n",
      "\n"
     ]
    },
    {
     "name": "stderr",
     "output_type": "stream",
     "text": [
      "/usr/local/Caskroom/miniconda/base/envs/dhdsblend2021/lib/python3.8/site-packages/seaborn/distributions.py:2551: FutureWarning: `distplot` is a deprecated function and will be removed in a future version. Please adapt your code to use either `displot` (a figure-level function with similar flexibility) or `histplot` (an axes-level function for histograms).\n",
      "  warnings.warn(msg, FutureWarning)\n",
      "/usr/local/Caskroom/miniconda/base/envs/dhdsblend2021/lib/python3.8/site-packages/seaborn/distributions.py:2551: FutureWarning: `distplot` is a deprecated function and will be removed in a future version. Please adapt your code to use either `displot` (a figure-level function with similar flexibility) or `histplot` (an axes-level function for histograms).\n",
      "  warnings.warn(msg, FutureWarning)\n"
     ]
    },
    {
     "data": {
      "image/png": "[encoded data removed]",
      "text/plain": [
       "<Figure size 864x288 with 2 Axes>"
      ]
     },
     "metadata": {
      "needs_background": "light"
     },
     "output_type": "display_data"
    }
   ],
   "source": [
    "model_ev(X_train,X_test,y_train,y_test, rf)"
   ]
  },
  {
   "cell_type": "code",
   "execution_count": 97,
   "metadata": {},
   "outputs": [
    {
     "name": "stdout",
     "output_type": "stream",
     "text": [
      "MAE TEST:  70.68562586224716 MAE TRAIN:  33.76872221575775\n"
     ]
    }
   ],
   "source": [
    "eval_model_CV(rf,\"RandomForest, sin optimizar\", X_train, y_train,10)"
   ]
  },
  {
   "cell_type": "code",
   "execution_count": 98,
   "metadata": {},
   "outputs": [
    {
     "data": {
      "image/png": "[encoded data removed]",
      "text/plain": [
       "<Figure size 576x432 with 1 Axes>"
      ]
     },
     "metadata": {
      "needs_background": "light"
     },
     "output_type": "display_data"
    }
   ],
   "source": [
    "plt.figure(figsize = (8, 6))\n",
    "sns.barplot(data= pd.DataFrame({\n",
    "    \"Variables\": X.columns,\n",
    "    \"importancias\": rf.feature_importances_}).sort_values(\"importancias\", ascending= False),\n",
    "            x = \"Variables\", y = \"importancias\", palette= \"nipy_spectral_r\")\n",
    "plt.xlabel(\"Variables\", fontweight = \"black\", fontsize = 12)\n",
    "plt.title(\"Importancia de cada variable en el modelo\", fontsize = 18, color = \"r\")\n",
    "plt.xticks(rotation=90, size=10)\n",
    "plt.show()"
   ]
  },
  {
   "cell_type": "code",
   "execution_count": 103,
   "metadata": {},
   "outputs": [
    {
     "name": "stdout",
     "output_type": "stream",
     "text": [
      "{'n_estimators': [100, 150], 'max_features': array([ 0,  1,  2,  3,  4,  5,  6,  7,  8,  9, 10, 11, 12, 13, 14, 15, 16,\n",
      "       17, 18]), 'max_depth': array([ 3,  4,  5,  6,  7,  8,  9, 10, 11, 12, 13, 14])}\n"
     ]
    }
   ],
   "source": [
    "n_estimators = [100, 150]\n",
    "max_features = np.arange(0,19)\n",
    "max_depth = np.arange(3,15)\n",
    "\n",
    "\n",
    "random_grid = {'n_estimators': n_estimators,\n",
    "               'max_features': max_features,\n",
    "               'max_depth': max_depth,\n",
    "               }\n",
    "print(random_grid)"
   ]
  },
  {
   "cell_type": "code",
   "execution_count": 104,
   "metadata": {},
   "outputs": [
    {
     "name": "stdout",
     "output_type": "stream",
     "text": [
      "Fitting 10 folds for each of 10 candidates, totalling 100 fits\n",
      "[CV] n_estimators=150, max_features=15, max_depth=12 .................\n",
      "[CV] n_estimators=150, max_features=15, max_depth=12 .................\n",
      "[CV] n_estimators=150, max_features=15, max_depth=12 .................\n",
      "[CV] n_estimators=150, max_features=15, max_depth=12 .................\n",
      "[CV] n_estimators=150, max_features=15, max_depth=12 .................\n",
      "[CV] n_estimators=150, max_features=15, max_depth=12 .................\n",
      "[CV] n_estimators=150, max_features=15, max_depth=12 .................\n",
      "[CV] n_estimators=150, max_features=15, max_depth=12 .................\n",
      "[CV] n_estimators=150, max_features=15, max_depth=12 .................\n",
      "[CV] n_estimators=150, max_features=15, max_depth=12 .................\n"
     ]
    },
    {
     "name": "stderr",
     "output_type": "stream",
     "text": [
      "[Parallel(n_jobs=-1)]: Using backend LokyBackend with 10 concurrent workers.\n"
     ]
    },
    {
     "name": "stdout",
     "output_type": "stream",
     "text": [
      "[CV] .. n_estimators=150, max_features=15, max_depth=12, total=   0.8s\n",
      "[CV] n_estimators=150, max_features=0, max_depth=4 ...................\n",
      "[CV] .. n_estimators=150, max_features=15, max_depth=12, total=   0.8s\n",
      "[CV] n_estimators=150, max_features=0, max_depth=4 ...................\n",
      "[CV] .. n_estimators=150, max_features=15, max_depth=12, total=   0.8s\n",
      "[CV] n_estimators=150, max_features=0, max_depth=4 ...................\n",
      "[CV] .. n_estimators=150, max_features=15, max_depth=12, total=   0.8s\n",
      "[CV] n_estimators=150, max_features=0, max_depth=4 ...................\n",
      "[CV] .... n_estimators=150, max_features=0, max_depth=4, total=   0.0s\n",
      "[CV] n_estimators=150, max_features=0, max_depth=4 ...................\n",
      "[CV] .. n_estimators=150, max_features=15, max_depth=12, total=   0.8s\n",
      "[CV] n_estimators=150, max_features=0, max_depth=4 ...................\n",
      "[CV] .. n_estimators=150, max_features=15, max_depth=12, total=   0.8s\n",
      "[CV] n_estimators=150, max_features=0, max_depth=4 ...................\n",
      "[CV] .. n_estimators=150, max_features=15, max_depth=12, total=   0.8s\n",
      "[CV] n_estimators=150, max_features=0, max_depth=4 ...................\n",
      "[CV] .... n_estimators=150, max_features=0, max_depth=4, total=   0.1s\n",
      "[CV] n_estimators=150, max_features=0, max_depth=4 ...................\n",
      "[CV] .... n_estimators=150, max_features=0, max_depth=4, total=   0.0s\n",
      "[CV] n_estimators=150, max_features=0, max_depth=4 ...................\n",
      "[CV] .... n_estimators=150, max_features=0, max_depth=4, total=   0.0s\n",
      "[CV] n_estimators=100, max_features=18, max_depth=11 .................\n",
      "[CV] .... n_estimators=150, max_features=0, max_depth=4, total=   0.0s\n",
      "[CV] .... n_estimators=150, max_features=0, max_depth=4, total=   0.1s\n",
      "[CV] n_estimators=100, max_features=18, max_depth=11 .................\n",
      "[CV] .. n_estimators=150, max_features=15, max_depth=12, total=   0.8s\n",
      "[CV] n_estimators=100, max_features=18, max_depth=11 .................\n",
      "[CV] .... n_estimators=150, max_features=0, max_depth=4, total=   0.0s\n",
      "[CV] n_estimators=100, max_features=18, max_depth=11 .................\n",
      "[CV] n_estimators=100, max_features=18, max_depth=11 .................\n",
      "[CV] .... n_estimators=150, max_features=0, max_depth=4, total=   0.0s\n",
      "[CV] .. n_estimators=150, max_features=15, max_depth=12, total=   0.8s\n",
      "[CV] .... n_estimators=150, max_features=0, max_depth=4, total=   0.0s\n",
      "[CV] n_estimators=100, max_features=18, max_depth=11 .................\n",
      "[CV] .... n_estimators=150, max_features=0, max_depth=4, total=   0.0s\n",
      "[CV] n_estimators=100, max_features=18, max_depth=11 .................\n",
      "[CV] .. n_estimators=150, max_features=15, max_depth=12, total=   0.8s\n",
      "[CV] n_estimators=100, max_features=18, max_depth=11 .................\n",
      "[CV] n_estimators=100, max_features=18, max_depth=11 .................\n",
      "[CV] n_estimators=100, max_features=18, max_depth=11 .................\n"
     ]
    },
    {
     "name": "stderr",
     "output_type": "stream",
     "text": [
      "/usr/local/Caskroom/miniconda/base/envs/dhdsblend2021/lib/python3.8/site-packages/sklearn/model_selection/_validation.py:548: FitFailedWarning: Estimator fit failed. The score on this train-test partition for these parameters will be set to nan. Details: \n",
      "Traceback (most recent call last):\n",
      "  File \"/usr/local/Caskroom/miniconda/base/envs/dhdsblend2021/lib/python3.8/site-packages/sklearn/model_selection/_validation.py\", line 531, in _fit_and_score\n",
      "    estimator.fit(X_train, y_train, **fit_params)\n",
      "  File \"/usr/local/Caskroom/miniconda/base/envs/dhdsblend2021/lib/python3.8/site-packages/sklearn/ensemble/_forest.py\", line 386, in fit\n",
      "    trees = Parallel(n_jobs=self.n_jobs, verbose=self.verbose,\n",
      "  File \"/usr/local/Caskroom/miniconda/base/envs/dhdsblend2021/lib/python3.8/site-packages/joblib/parallel.py\", line 1043, in __call__\n",
      "    if self.dispatch_one_batch(iterator):\n",
      "  File \"/usr/local/Caskroom/miniconda/base/envs/dhdsblend2021/lib/python3.8/site-packages/joblib/parallel.py\", line 861, in dispatch_one_batch\n",
      "    self._dispatch(tasks)\n",
      "  File \"/usr/local/Caskroom/miniconda/base/envs/dhdsblend2021/lib/python3.8/site-packages/joblib/parallel.py\", line 779, in _dispatch\n",
      "    job = self._backend.apply_async(batch, callback=cb)\n",
      "  File \"/usr/local/Caskroom/miniconda/base/envs/dhdsblend2021/lib/python3.8/site-packages/joblib/_parallel_backends.py\", line 208, in apply_async\n",
      "    result = ImmediateResult(func)\n",
      "  File \"/usr/local/Caskroom/miniconda/base/envs/dhdsblend2021/lib/python3.8/site-packages/joblib/_parallel_backends.py\", line 572, in __init__\n",
      "    self.results = batch()\n",
      "  File \"/usr/local/Caskroom/miniconda/base/envs/dhdsblend2021/lib/python3.8/site-packages/joblib/parallel.py\", line 262, in __call__\n",
      "    return [func(*args, **kwargs)\n",
      "  File \"/usr/local/Caskroom/miniconda/base/envs/dhdsblend2021/lib/python3.8/site-packages/joblib/parallel.py\", line 262, in <listcomp>\n",
      "    return [func(*args, **kwargs)\n",
      "  File \"/usr/local/Caskroom/miniconda/base/envs/dhdsblend2021/lib/python3.8/site-packages/sklearn/ensemble/_forest.py\", line 168, in _parallel_build_trees\n",
      "    tree.fit(X, y, sample_weight=curr_sample_weight, check_input=False)\n",
      "  File \"/usr/local/Caskroom/miniconda/base/envs/dhdsblend2021/lib/python3.8/site-packages/sklearn/tree/_classes.py\", line 1242, in fit\n",
      "    super().fit(\n",
      "  File \"/usr/local/Caskroom/miniconda/base/envs/dhdsblend2021/lib/python3.8/site-packages/sklearn/tree/_classes.py\", line 279, in fit\n",
      "    raise ValueError(\"max_features must be in (0, n_features]\")\n",
      "ValueError: max_features must be in (0, n_features]\n",
      "\n",
      "  warnings.warn(\"Estimator fit failed. The score on this train-test\"\n",
      "/usr/local/Caskroom/miniconda/base/envs/dhdsblend2021/lib/python3.8/site-packages/sklearn/model_selection/_validation.py:548: FitFailedWarning: Estimator fit failed. The score on this train-test partition for these parameters will be set to nan. Details: \n",
      "Traceback (most recent call last):\n",
      "  File \"/usr/local/Caskroom/miniconda/base/envs/dhdsblend2021/lib/python3.8/site-packages/sklearn/model_selection/_validation.py\", line 531, in _fit_and_score\n",
      "    estimator.fit(X_train, y_train, **fit_params)\n",
      "  File \"/usr/local/Caskroom/miniconda/base/envs/dhdsblend2021/lib/python3.8/site-packages/sklearn/ensemble/_forest.py\", line 386, in fit\n",
      "    trees = Parallel(n_jobs=self.n_jobs, verbose=self.verbose,\n",
      "  File \"/usr/local/Caskroom/miniconda/base/envs/dhdsblend2021/lib/python3.8/site-packages/joblib/parallel.py\", line 1043, in __call__\n",
      "    if self.dispatch_one_batch(iterator):\n",
      "  File \"/usr/local/Caskroom/miniconda/base/envs/dhdsblend2021/lib/python3.8/site-packages/joblib/parallel.py\", line 861, in dispatch_one_batch\n",
      "    self._dispatch(tasks)\n",
      "  File \"/usr/local/Caskroom/miniconda/base/envs/dhdsblend2021/lib/python3.8/site-packages/joblib/parallel.py\", line 779, in _dispatch\n",
      "    job = self._backend.apply_async(batch, callback=cb)\n",
      "  File \"/usr/local/Caskroom/miniconda/base/envs/dhdsblend2021/lib/python3.8/site-packages/joblib/_parallel_backends.py\", line 208, in apply_async\n",
      "    result = ImmediateResult(func)\n",
      "  File \"/usr/local/Caskroom/miniconda/base/envs/dhdsblend2021/lib/python3.8/site-packages/joblib/_parallel_backends.py\", line 572, in __init__\n",
      "    self.results = batch()\n",
      "  File \"/usr/local/Caskroom/miniconda/base/envs/dhdsblend2021/lib/python3.8/site-packages/joblib/parallel.py\", line 262, in __call__\n",
      "    return [func(*args, **kwargs)\n",
      "  File \"/usr/local/Caskroom/miniconda/base/envs/dhdsblend2021/lib/python3.8/site-packages/joblib/parallel.py\", line 262, in <listcomp>\n",
      "    return [func(*args, **kwargs)\n",
      "  File \"/usr/local/Caskroom/miniconda/base/envs/dhdsblend2021/lib/python3.8/site-packages/sklearn/ensemble/_forest.py\", line 168, in _parallel_build_trees\n",
      "    tree.fit(X, y, sample_weight=curr_sample_weight, check_input=False)\n",
      "  File \"/usr/local/Caskroom/miniconda/base/envs/dhdsblend2021/lib/python3.8/site-packages/sklearn/tree/_classes.py\", line 1242, in fit\n",
      "    super().fit(\n",
      "  File \"/usr/local/Caskroom/miniconda/base/envs/dhdsblend2021/lib/python3.8/site-packages/sklearn/tree/_classes.py\", line 279, in fit\n",
      "    raise ValueError(\"max_features must be in (0, n_features]\")\n",
      "ValueError: max_features must be in (0, n_features]\n",
      "\n",
      "  warnings.warn(\"Estimator fit failed. The score on this train-test\"\n",
      "/usr/local/Caskroom/miniconda/base/envs/dhdsblend2021/lib/python3.8/site-packages/sklearn/model_selection/_validation.py:548: FitFailedWarning: Estimator fit failed. The score on this train-test partition for these parameters will be set to nan. Details: \n",
      "Traceback (most recent call last):\n",
      "  File \"/usr/local/Caskroom/miniconda/base/envs/dhdsblend2021/lib/python3.8/site-packages/sklearn/model_selection/_validation.py\", line 531, in _fit_and_score\n",
      "    estimator.fit(X_train, y_train, **fit_params)\n",
      "  File \"/usr/local/Caskroom/miniconda/base/envs/dhdsblend2021/lib/python3.8/site-packages/sklearn/ensemble/_forest.py\", line 386, in fit\n",
      "    trees = Parallel(n_jobs=self.n_jobs, verbose=self.verbose,\n",
      "  File \"/usr/local/Caskroom/miniconda/base/envs/dhdsblend2021/lib/python3.8/site-packages/joblib/parallel.py\", line 1043, in __call__\n",
      "    if self.dispatch_one_batch(iterator):\n",
      "  File \"/usr/local/Caskroom/miniconda/base/envs/dhdsblend2021/lib/python3.8/site-packages/joblib/parallel.py\", line 861, in dispatch_one_batch\n",
      "    self._dispatch(tasks)\n",
      "  File \"/usr/local/Caskroom/miniconda/base/envs/dhdsblend2021/lib/python3.8/site-packages/joblib/parallel.py\", line 779, in _dispatch\n",
      "    job = self._backend.apply_async(batch, callback=cb)\n",
      "  File \"/usr/local/Caskroom/miniconda/base/envs/dhdsblend2021/lib/python3.8/site-packages/joblib/_parallel_backends.py\", line 208, in apply_async\n",
      "    result = ImmediateResult(func)\n",
      "  File \"/usr/local/Caskroom/miniconda/base/envs/dhdsblend2021/lib/python3.8/site-packages/joblib/_parallel_backends.py\", line 572, in __init__\n",
      "    self.results = batch()\n",
      "  File \"/usr/local/Caskroom/miniconda/base/envs/dhdsblend2021/lib/python3.8/site-packages/joblib/parallel.py\", line 262, in __call__\n",
      "    return [func(*args, **kwargs)\n",
      "  File \"/usr/local/Caskroom/miniconda/base/envs/dhdsblend2021/lib/python3.8/site-packages/joblib/parallel.py\", line 262, in <listcomp>\n",
      "    return [func(*args, **kwargs)\n",
      "  File \"/usr/local/Caskroom/miniconda/base/envs/dhdsblend2021/lib/python3.8/site-packages/sklearn/ensemble/_forest.py\", line 168, in _parallel_build_trees\n",
      "    tree.fit(X, y, sample_weight=curr_sample_weight, check_input=False)\n",
      "  File \"/usr/local/Caskroom/miniconda/base/envs/dhdsblend2021/lib/python3.8/site-packages/sklearn/tree/_classes.py\", line 1242, in fit\n",
      "    super().fit(\n",
      "  File \"/usr/local/Caskroom/miniconda/base/envs/dhdsblend2021/lib/python3.8/site-packages/sklearn/tree/_classes.py\", line 279, in fit\n",
      "    raise ValueError(\"max_features must be in (0, n_features]\")\n",
      "ValueError: max_features must be in (0, n_features]\n",
      "\n",
      "  warnings.warn(\"Estimator fit failed. The score on this train-test\"\n",
      "/usr/local/Caskroom/miniconda/base/envs/dhdsblend2021/lib/python3.8/site-packages/sklearn/model_selection/_validation.py:548: FitFailedWarning: Estimator fit failed. The score on this train-test partition for these parameters will be set to nan. Details: \n",
      "Traceback (most recent call last):\n",
      "  File \"/usr/local/Caskroom/miniconda/base/envs/dhdsblend2021/lib/python3.8/site-packages/sklearn/model_selection/_validation.py\", line 531, in _fit_and_score\n",
      "    estimator.fit(X_train, y_train, **fit_params)\n",
      "  File \"/usr/local/Caskroom/miniconda/base/envs/dhdsblend2021/lib/python3.8/site-packages/sklearn/ensemble/_forest.py\", line 386, in fit\n",
      "    trees = Parallel(n_jobs=self.n_jobs, verbose=self.verbose,\n",
      "  File \"/usr/local/Caskroom/miniconda/base/envs/dhdsblend2021/lib/python3.8/site-packages/joblib/parallel.py\", line 1043, in __call__\n",
      "    if self.dispatch_one_batch(iterator):\n",
      "  File \"/usr/local/Caskroom/miniconda/base/envs/dhdsblend2021/lib/python3.8/site-packages/joblib/parallel.py\", line 861, in dispatch_one_batch\n",
      "    self._dispatch(tasks)\n",
      "  File \"/usr/local/Caskroom/miniconda/base/envs/dhdsblend2021/lib/python3.8/site-packages/joblib/parallel.py\", line 779, in _dispatch\n",
      "    job = self._backend.apply_async(batch, callback=cb)\n",
      "  File \"/usr/local/Caskroom/miniconda/base/envs/dhdsblend2021/lib/python3.8/site-packages/joblib/_parallel_backends.py\", line 208, in apply_async\n",
      "    result = ImmediateResult(func)\n",
      "  File \"/usr/local/Caskroom/miniconda/base/envs/dhdsblend2021/lib/python3.8/site-packages/joblib/_parallel_backends.py\", line 572, in __init__\n",
      "    self.results = batch()\n",
      "  File \"/usr/local/Caskroom/miniconda/base/envs/dhdsblend2021/lib/python3.8/site-packages/joblib/parallel.py\", line 262, in __call__\n",
      "    return [func(*args, **kwargs)\n",
      "  File \"/usr/local/Caskroom/miniconda/base/envs/dhdsblend2021/lib/python3.8/site-packages/joblib/parallel.py\", line 262, in <listcomp>\n",
      "    return [func(*args, **kwargs)\n",
      "  File \"/usr/local/Caskroom/miniconda/base/envs/dhdsblend2021/lib/python3.8/site-packages/sklearn/ensemble/_forest.py\", line 168, in _parallel_build_trees\n",
      "    tree.fit(X, y, sample_weight=curr_sample_weight, check_input=False)\n",
      "  File \"/usr/local/Caskroom/miniconda/base/envs/dhdsblend2021/lib/python3.8/site-packages/sklearn/tree/_classes.py\", line 1242, in fit\n",
      "    super().fit(\n",
      "  File \"/usr/local/Caskroom/miniconda/base/envs/dhdsblend2021/lib/python3.8/site-packages/sklearn/tree/_classes.py\", line 279, in fit\n",
      "    raise ValueError(\"max_features must be in (0, n_features]\")\n",
      "ValueError: max_features must be in (0, n_features]\n",
      "\n",
      "  warnings.warn(\"Estimator fit failed. The score on this train-test\"\n",
      "/usr/local/Caskroom/miniconda/base/envs/dhdsblend2021/lib/python3.8/site-packages/sklearn/model_selection/_validation.py:548: FitFailedWarning: Estimator fit failed. The score on this train-test partition for these parameters will be set to nan. Details: \n",
      "Traceback (most recent call last):\n",
      "  File \"/usr/local/Caskroom/miniconda/base/envs/dhdsblend2021/lib/python3.8/site-packages/sklearn/model_selection/_validation.py\", line 531, in _fit_and_score\n",
      "    estimator.fit(X_train, y_train, **fit_params)\n",
      "  File \"/usr/local/Caskroom/miniconda/base/envs/dhdsblend2021/lib/python3.8/site-packages/sklearn/ensemble/_forest.py\", line 386, in fit\n",
      "    trees = Parallel(n_jobs=self.n_jobs, verbose=self.verbose,\n",
      "  File \"/usr/local/Caskroom/miniconda/base/envs/dhdsblend2021/lib/python3.8/site-packages/joblib/parallel.py\", line 1043, in __call__\n",
      "    if self.dispatch_one_batch(iterator):\n",
      "  File \"/usr/local/Caskroom/miniconda/base/envs/dhdsblend2021/lib/python3.8/site-packages/joblib/parallel.py\", line 861, in dispatch_one_batch\n",
      "    self._dispatch(tasks)\n",
      "  File \"/usr/local/Caskroom/miniconda/base/envs/dhdsblend2021/lib/python3.8/site-packages/joblib/parallel.py\", line 779, in _dispatch\n",
      "    job = self._backend.apply_async(batch, callback=cb)\n",
      "  File \"/usr/local/Caskroom/miniconda/base/envs/dhdsblend2021/lib/python3.8/site-packages/joblib/_parallel_backends.py\", line 208, in apply_async\n",
      "    result = ImmediateResult(func)\n",
      "  File \"/usr/local/Caskroom/miniconda/base/envs/dhdsblend2021/lib/python3.8/site-packages/joblib/_parallel_backends.py\", line 572, in __init__\n",
      "    self.results = batch()\n",
      "  File \"/usr/local/Caskroom/miniconda/base/envs/dhdsblend2021/lib/python3.8/site-packages/joblib/parallel.py\", line 262, in __call__\n",
      "    return [func(*args, **kwargs)\n",
      "  File \"/usr/local/Caskroom/miniconda/base/envs/dhdsblend2021/lib/python3.8/site-packages/joblib/parallel.py\", line 262, in <listcomp>\n",
      "    return [func(*args, **kwargs)\n",
      "  File \"/usr/local/Caskroom/miniconda/base/envs/dhdsblend2021/lib/python3.8/site-packages/sklearn/ensemble/_forest.py\", line 168, in _parallel_build_trees\n",
      "    tree.fit(X, y, sample_weight=curr_sample_weight, check_input=False)\n",
      "  File \"/usr/local/Caskroom/miniconda/base/envs/dhdsblend2021/lib/python3.8/site-packages/sklearn/tree/_classes.py\", line 1242, in fit\n",
      "    super().fit(\n",
      "  File \"/usr/local/Caskroom/miniconda/base/envs/dhdsblend2021/lib/python3.8/site-packages/sklearn/tree/_classes.py\", line 279, in fit\n",
      "    raise ValueError(\"max_features must be in (0, n_features]\")\n",
      "ValueError: max_features must be in (0, n_features]\n",
      "\n",
      "  warnings.warn(\"Estimator fit failed. The score on this train-test\"\n",
      "/usr/local/Caskroom/miniconda/base/envs/dhdsblend2021/lib/python3.8/site-packages/sklearn/model_selection/_validation.py:548: FitFailedWarning: Estimator fit failed. The score on this train-test partition for these parameters will be set to nan. Details: \n",
      "Traceback (most recent call last):\n",
      "  File \"/usr/local/Caskroom/miniconda/base/envs/dhdsblend2021/lib/python3.8/site-packages/sklearn/model_selection/_validation.py\", line 531, in _fit_and_score\n",
      "    estimator.fit(X_train, y_train, **fit_params)\n",
      "  File \"/usr/local/Caskroom/miniconda/base/envs/dhdsblend2021/lib/python3.8/site-packages/sklearn/ensemble/_forest.py\", line 386, in fit\n",
      "    trees = Parallel(n_jobs=self.n_jobs, verbose=self.verbose,\n",
      "  File \"/usr/local/Caskroom/miniconda/base/envs/dhdsblend2021/lib/python3.8/site-packages/joblib/parallel.py\", line 1043, in __call__\n",
      "    if self.dispatch_one_batch(iterator):\n",
      "  File \"/usr/local/Caskroom/miniconda/base/envs/dhdsblend2021/lib/python3.8/site-packages/joblib/parallel.py\", line 861, in dispatch_one_batch\n",
      "    self._dispatch(tasks)\n",
      "  File \"/usr/local/Caskroom/miniconda/base/envs/dhdsblend2021/lib/python3.8/site-packages/joblib/parallel.py\", line 779, in _dispatch\n",
      "    job = self._backend.apply_async(batch, callback=cb)\n",
      "  File \"/usr/local/Caskroom/miniconda/base/envs/dhdsblend2021/lib/python3.8/site-packages/joblib/_parallel_backends.py\", line 208, in apply_async\n",
      "    result = ImmediateResult(func)\n",
      "  File \"/usr/local/Caskroom/miniconda/base/envs/dhdsblend2021/lib/python3.8/site-packages/joblib/_parallel_backends.py\", line 572, in __init__\n",
      "    self.results = batch()\n",
      "  File \"/usr/local/Caskroom/miniconda/base/envs/dhdsblend2021/lib/python3.8/site-packages/joblib/parallel.py\", line 262, in __call__\n",
      "    return [func(*args, **kwargs)\n",
      "  File \"/usr/local/Caskroom/miniconda/base/envs/dhdsblend2021/lib/python3.8/site-packages/joblib/parallel.py\", line 262, in <listcomp>\n",
      "    return [func(*args, **kwargs)\n",
      "  File \"/usr/local/Caskroom/miniconda/base/envs/dhdsblend2021/lib/python3.8/site-packages/sklearn/ensemble/_forest.py\", line 168, in _parallel_build_trees\n",
      "    tree.fit(X, y, sample_weight=curr_sample_weight, check_input=False)\n",
      "  File \"/usr/local/Caskroom/miniconda/base/envs/dhdsblend2021/lib/python3.8/site-packages/sklearn/tree/_classes.py\", line 1242, in fit\n",
      "    super().fit(\n",
      "  File \"/usr/local/Caskroom/miniconda/base/envs/dhdsblend2021/lib/python3.8/site-packages/sklearn/tree/_classes.py\", line 279, in fit\n",
      "    raise ValueError(\"max_features must be in (0, n_features]\")\n",
      "ValueError: max_features must be in (0, n_features]\n",
      "\n",
      "  warnings.warn(\"Estimator fit failed. The score on this train-test\"\n",
      "/usr/local/Caskroom/miniconda/base/envs/dhdsblend2021/lib/python3.8/site-packages/sklearn/model_selection/_validation.py:548: FitFailedWarning: Estimator fit failed. The score on this train-test partition for these parameters will be set to nan. Details: \n",
      "Traceback (most recent call last):\n",
      "  File \"/usr/local/Caskroom/miniconda/base/envs/dhdsblend2021/lib/python3.8/site-packages/sklearn/model_selection/_validation.py\", line 531, in _fit_and_score\n",
      "    estimator.fit(X_train, y_train, **fit_params)\n",
      "  File \"/usr/local/Caskroom/miniconda/base/envs/dhdsblend2021/lib/python3.8/site-packages/sklearn/ensemble/_forest.py\", line 386, in fit\n",
      "    trees = Parallel(n_jobs=self.n_jobs, verbose=self.verbose,\n",
      "  File \"/usr/local/Caskroom/miniconda/base/envs/dhdsblend2021/lib/python3.8/site-packages/joblib/parallel.py\", line 1043, in __call__\n",
      "    if self.dispatch_one_batch(iterator):\n",
      "  File \"/usr/local/Caskroom/miniconda/base/envs/dhdsblend2021/lib/python3.8/site-packages/joblib/parallel.py\", line 861, in dispatch_one_batch\n",
      "    self._dispatch(tasks)\n",
      "  File \"/usr/local/Caskroom/miniconda/base/envs/dhdsblend2021/lib/python3.8/site-packages/joblib/parallel.py\", line 779, in _dispatch\n",
      "    job = self._backend.apply_async(batch, callback=cb)\n",
      "  File \"/usr/local/Caskroom/miniconda/base/envs/dhdsblend2021/lib/python3.8/site-packages/joblib/_parallel_backends.py\", line 208, in apply_async\n",
      "    result = ImmediateResult(func)\n",
      "  File \"/usr/local/Caskroom/miniconda/base/envs/dhdsblend2021/lib/python3.8/site-packages/joblib/_parallel_backends.py\", line 572, in __init__\n",
      "    self.results = batch()\n",
      "  File \"/usr/local/Caskroom/miniconda/base/envs/dhdsblend2021/lib/python3.8/site-packages/joblib/parallel.py\", line 262, in __call__\n",
      "    return [func(*args, **kwargs)\n",
      "  File \"/usr/local/Caskroom/miniconda/base/envs/dhdsblend2021/lib/python3.8/site-packages/joblib/parallel.py\", line 262, in <listcomp>\n",
      "    return [func(*args, **kwargs)\n",
      "  File \"/usr/local/Caskroom/miniconda/base/envs/dhdsblend2021/lib/python3.8/site-packages/sklearn/ensemble/_forest.py\", line 168, in _parallel_build_trees\n",
      "    tree.fit(X, y, sample_weight=curr_sample_weight, check_input=False)\n",
      "  File \"/usr/local/Caskroom/miniconda/base/envs/dhdsblend2021/lib/python3.8/site-packages/sklearn/tree/_classes.py\", line 1242, in fit\n",
      "    super().fit(\n",
      "  File \"/usr/local/Caskroom/miniconda/base/envs/dhdsblend2021/lib/python3.8/site-packages/sklearn/tree/_classes.py\", line 279, in fit\n",
      "    raise ValueError(\"max_features must be in (0, n_features]\")\n",
      "ValueError: max_features must be in (0, n_features]\n",
      "\n",
      "  warnings.warn(\"Estimator fit failed. The score on this train-test\"\n",
      "/usr/local/Caskroom/miniconda/base/envs/dhdsblend2021/lib/python3.8/site-packages/sklearn/model_selection/_validation.py:548: FitFailedWarning: Estimator fit failed. The score on this train-test partition for these parameters will be set to nan. Details: \n",
      "Traceback (most recent call last):\n",
      "  File \"/usr/local/Caskroom/miniconda/base/envs/dhdsblend2021/lib/python3.8/site-packages/sklearn/model_selection/_validation.py\", line 531, in _fit_and_score\n",
      "    estimator.fit(X_train, y_train, **fit_params)\n",
      "  File \"/usr/local/Caskroom/miniconda/base/envs/dhdsblend2021/lib/python3.8/site-packages/sklearn/ensemble/_forest.py\", line 386, in fit\n",
      "    trees = Parallel(n_jobs=self.n_jobs, verbose=self.verbose,\n",
      "  File \"/usr/local/Caskroom/miniconda/base/envs/dhdsblend2021/lib/python3.8/site-packages/joblib/parallel.py\", line 1043, in __call__\n",
      "    if self.dispatch_one_batch(iterator):\n",
      "  File \"/usr/local/Caskroom/miniconda/base/envs/dhdsblend2021/lib/python3.8/site-packages/joblib/parallel.py\", line 861, in dispatch_one_batch\n",
      "    self._dispatch(tasks)\n",
      "  File \"/usr/local/Caskroom/miniconda/base/envs/dhdsblend2021/lib/python3.8/site-packages/joblib/parallel.py\", line 779, in _dispatch\n",
      "    job = self._backend.apply_async(batch, callback=cb)\n",
      "  File \"/usr/local/Caskroom/miniconda/base/envs/dhdsblend2021/lib/python3.8/site-packages/joblib/_parallel_backends.py\", line 208, in apply_async\n",
      "    result = ImmediateResult(func)\n",
      "  File \"/usr/local/Caskroom/miniconda/base/envs/dhdsblend2021/lib/python3.8/site-packages/joblib/_parallel_backends.py\", line 572, in __init__\n",
      "    self.results = batch()\n",
      "  File \"/usr/local/Caskroom/miniconda/base/envs/dhdsblend2021/lib/python3.8/site-packages/joblib/parallel.py\", line 262, in __call__\n",
      "    return [func(*args, **kwargs)\n",
      "  File \"/usr/local/Caskroom/miniconda/base/envs/dhdsblend2021/lib/python3.8/site-packages/joblib/parallel.py\", line 262, in <listcomp>\n",
      "    return [func(*args, **kwargs)\n",
      "  File \"/usr/local/Caskroom/miniconda/base/envs/dhdsblend2021/lib/python3.8/site-packages/sklearn/ensemble/_forest.py\", line 168, in _parallel_build_trees\n",
      "    tree.fit(X, y, sample_weight=curr_sample_weight, check_input=False)\n",
      "  File \"/usr/local/Caskroom/miniconda/base/envs/dhdsblend2021/lib/python3.8/site-packages/sklearn/tree/_classes.py\", line 1242, in fit\n",
      "    super().fit(\n",
      "  File \"/usr/local/Caskroom/miniconda/base/envs/dhdsblend2021/lib/python3.8/site-packages/sklearn/tree/_classes.py\", line 279, in fit\n",
      "    raise ValueError(\"max_features must be in (0, n_features]\")\n",
      "ValueError: max_features must be in (0, n_features]\n",
      "\n",
      "  warnings.warn(\"Estimator fit failed. The score on this train-test\"\n",
      "/usr/local/Caskroom/miniconda/base/envs/dhdsblend2021/lib/python3.8/site-packages/sklearn/model_selection/_validation.py:548: FitFailedWarning: Estimator fit failed. The score on this train-test partition for these parameters will be set to nan. Details: \n",
      "Traceback (most recent call last):\n",
      "  File \"/usr/local/Caskroom/miniconda/base/envs/dhdsblend2021/lib/python3.8/site-packages/sklearn/model_selection/_validation.py\", line 531, in _fit_and_score\n",
      "    estimator.fit(X_train, y_train, **fit_params)\n",
      "  File \"/usr/local/Caskroom/miniconda/base/envs/dhdsblend2021/lib/python3.8/site-packages/sklearn/ensemble/_forest.py\", line 386, in fit\n",
      "    trees = Parallel(n_jobs=self.n_jobs, verbose=self.verbose,\n",
      "  File \"/usr/local/Caskroom/miniconda/base/envs/dhdsblend2021/lib/python3.8/site-packages/joblib/parallel.py\", line 1043, in __call__\n",
      "    if self.dispatch_one_batch(iterator):\n",
      "  File \"/usr/local/Caskroom/miniconda/base/envs/dhdsblend2021/lib/python3.8/site-packages/joblib/parallel.py\", line 861, in dispatch_one_batch\n",
      "    self._dispatch(tasks)\n",
      "  File \"/usr/local/Caskroom/miniconda/base/envs/dhdsblend2021/lib/python3.8/site-packages/joblib/parallel.py\", line 779, in _dispatch\n",
      "    job = self._backend.apply_async(batch, callback=cb)\n",
      "  File \"/usr/local/Caskroom/miniconda/base/envs/dhdsblend2021/lib/python3.8/site-packages/joblib/_parallel_backends.py\", line 208, in apply_async\n",
      "    result = ImmediateResult(func)\n",
      "  File \"/usr/local/Caskroom/miniconda/base/envs/dhdsblend2021/lib/python3.8/site-packages/joblib/_parallel_backends.py\", line 572, in __init__\n",
      "    self.results = batch()\n",
      "  File \"/usr/local/Caskroom/miniconda/base/envs/dhdsblend2021/lib/python3.8/site-packages/joblib/parallel.py\", line 262, in __call__\n",
      "    return [func(*args, **kwargs)\n",
      "  File \"/usr/local/Caskroom/miniconda/base/envs/dhdsblend2021/lib/python3.8/site-packages/joblib/parallel.py\", line 262, in <listcomp>\n",
      "    return [func(*args, **kwargs)\n",
      "  File \"/usr/local/Caskroom/miniconda/base/envs/dhdsblend2021/lib/python3.8/site-packages/sklearn/ensemble/_forest.py\", line 168, in _parallel_build_trees\n",
      "    tree.fit(X, y, sample_weight=curr_sample_weight, check_input=False)\n",
      "  File \"/usr/local/Caskroom/miniconda/base/envs/dhdsblend2021/lib/python3.8/site-packages/sklearn/tree/_classes.py\", line 1242, in fit\n",
      "    super().fit(\n",
      "  File \"/usr/local/Caskroom/miniconda/base/envs/dhdsblend2021/lib/python3.8/site-packages/sklearn/tree/_classes.py\", line 279, in fit\n",
      "    raise ValueError(\"max_features must be in (0, n_features]\")\n",
      "ValueError: max_features must be in (0, n_features]\n",
      "\n",
      "  warnings.warn(\"Estimator fit failed. The score on this train-test\"\n",
      "/usr/local/Caskroom/miniconda/base/envs/dhdsblend2021/lib/python3.8/site-packages/sklearn/model_selection/_validation.py:548: FitFailedWarning: Estimator fit failed. The score on this train-test partition for these parameters will be set to nan. Details: \n",
      "Traceback (most recent call last):\n",
      "  File \"/usr/local/Caskroom/miniconda/base/envs/dhdsblend2021/lib/python3.8/site-packages/sklearn/model_selection/_validation.py\", line 531, in _fit_and_score\n",
      "    estimator.fit(X_train, y_train, **fit_params)\n",
      "  File \"/usr/local/Caskroom/miniconda/base/envs/dhdsblend2021/lib/python3.8/site-packages/sklearn/ensemble/_forest.py\", line 386, in fit\n",
      "    trees = Parallel(n_jobs=self.n_jobs, verbose=self.verbose,\n",
      "  File \"/usr/local/Caskroom/miniconda/base/envs/dhdsblend2021/lib/python3.8/site-packages/joblib/parallel.py\", line 1043, in __call__\n",
      "    if self.dispatch_one_batch(iterator):\n",
      "  File \"/usr/local/Caskroom/miniconda/base/envs/dhdsblend2021/lib/python3.8/site-packages/joblib/parallel.py\", line 861, in dispatch_one_batch\n",
      "    self._dispatch(tasks)\n",
      "  File \"/usr/local/Caskroom/miniconda/base/envs/dhdsblend2021/lib/python3.8/site-packages/joblib/parallel.py\", line 779, in _dispatch\n",
      "    job = self._backend.apply_async(batch, callback=cb)\n",
      "  File \"/usr/local/Caskroom/miniconda/base/envs/dhdsblend2021/lib/python3.8/site-packages/joblib/_parallel_backends.py\", line 208, in apply_async\n",
      "    result = ImmediateResult(func)\n",
      "  File \"/usr/local/Caskroom/miniconda/base/envs/dhdsblend2021/lib/python3.8/site-packages/joblib/_parallel_backends.py\", line 572, in __init__\n",
      "    self.results = batch()\n",
      "  File \"/usr/local/Caskroom/miniconda/base/envs/dhdsblend2021/lib/python3.8/site-packages/joblib/parallel.py\", line 262, in __call__\n",
      "    return [func(*args, **kwargs)\n",
      "  File \"/usr/local/Caskroom/miniconda/base/envs/dhdsblend2021/lib/python3.8/site-packages/joblib/parallel.py\", line 262, in <listcomp>\n",
      "    return [func(*args, **kwargs)\n",
      "  File \"/usr/local/Caskroom/miniconda/base/envs/dhdsblend2021/lib/python3.8/site-packages/sklearn/ensemble/_forest.py\", line 168, in _parallel_build_trees\n",
      "    tree.fit(X, y, sample_weight=curr_sample_weight, check_input=False)\n",
      "  File \"/usr/local/Caskroom/miniconda/base/envs/dhdsblend2021/lib/python3.8/site-packages/sklearn/tree/_classes.py\", line 1242, in fit\n",
      "    super().fit(\n",
      "  File \"/usr/local/Caskroom/miniconda/base/envs/dhdsblend2021/lib/python3.8/site-packages/sklearn/tree/_classes.py\", line 279, in fit\n",
      "    raise ValueError(\"max_features must be in (0, n_features]\")\n",
      "ValueError: max_features must be in (0, n_features]\n",
      "\n",
      "  warnings.warn(\"Estimator fit failed. The score on this train-test\"\n"
     ]
    },
    {
     "name": "stdout",
     "output_type": "stream",
     "text": [
      "[CV] .. n_estimators=100, max_features=18, max_depth=11, total=   0.5s\n",
      "[CV] .. n_estimators=100, max_features=18, max_depth=11, total=   0.5s\n",
      "[CV] n_estimators=100, max_features=14, max_depth=8 ..................\n",
      "[CV] n_estimators=100, max_features=14, max_depth=8 ..................\n",
      "[CV] .. n_estimators=100, max_features=18, max_depth=11, total=   0.5s\n",
      "[CV] n_estimators=100, max_features=14, max_depth=8 ..................\n",
      "[CV] .. n_estimators=100, max_features=18, max_depth=11, total=   0.5s\n",
      "[CV] n_estimators=100, max_features=14, max_depth=8 ..................\n",
      "[CV] .. n_estimators=100, max_features=18, max_depth=11, total=   0.5s\n",
      "[CV] n_estimators=100, max_features=14, max_depth=8 ..................\n",
      "[CV] .. n_estimators=100, max_features=18, max_depth=11, total=   0.6s\n",
      "[CV] .. n_estimators=100, max_features=18, max_depth=11, total=   0.5s\n",
      "[CV] .. n_estimators=100, max_features=18, max_depth=11, total=   0.5s\n",
      "[CV] n_estimators=100, max_features=14, max_depth=8 ..................\n",
      "[CV] n_estimators=100, max_features=14, max_depth=8 ..................\n",
      "[CV] .. n_estimators=100, max_features=18, max_depth=11, total=   0.5s\n",
      "[CV] n_estimators=100, max_features=14, max_depth=8 ..................\n",
      "[CV] n_estimators=100, max_features=14, max_depth=8 ..................\n",
      "[CV] .. n_estimators=100, max_features=18, max_depth=11, total=   0.6s\n",
      "[CV] n_estimators=100, max_features=14, max_depth=8 ..................\n"
     ]
    },
    {
     "name": "stderr",
     "output_type": "stream",
     "text": [
      "[Parallel(n_jobs=-1)]: Done  21 tasks      | elapsed:    1.5s\n"
     ]
    },
    {
     "name": "stdout",
     "output_type": "stream",
     "text": [
      "[CV] ... n_estimators=100, max_features=14, max_depth=8, total=   0.3s\n",
      "[CV] ... n_estimators=100, max_features=14, max_depth=8, total=   0.4s\n",
      "[CV] n_estimators=150, max_features=1, max_depth=7 ...................\n",
      "[CV] n_estimators=150, max_features=1, max_depth=7 ...................\n",
      "[CV] ... n_estimators=100, max_features=14, max_depth=8, total=   0.3s\n",
      "[CV] n_estimators=150, max_features=1, max_depth=7 ...................\n",
      "[CV] ... n_estimators=100, max_features=14, max_depth=8, total=   0.4s\n",
      "[CV] ... n_estimators=100, max_features=14, max_depth=8, total=   0.3s\n",
      "[CV] ... n_estimators=100, max_features=14, max_depth=8, total=   0.4s\n",
      "[CV] n_estimators=150, max_features=1, max_depth=7 ...................\n",
      "[CV] n_estimators=150, max_features=1, max_depth=7 ...................\n",
      "[CV] ... n_estimators=100, max_features=14, max_depth=8, total=   0.3s\n",
      "[CV] n_estimators=150, max_features=1, max_depth=7 ...................\n",
      "[CV] ... n_estimators=100, max_features=14, max_depth=8, total=   0.3s\n",
      "[CV] n_estimators=150, max_features=1, max_depth=7 ...................\n",
      "[CV] n_estimators=150, max_features=1, max_depth=7 ...................\n",
      "[CV] ... n_estimators=100, max_features=14, max_depth=8, total=   0.4s\n",
      "[CV] n_estimators=150, max_features=1, max_depth=7 ...................\n",
      "[CV] ... n_estimators=100, max_features=14, max_depth=8, total=   0.3s\n",
      "[CV] n_estimators=150, max_features=1, max_depth=7 ...................\n",
      "[CV] .... n_estimators=150, max_features=1, max_depth=7, total=   0.2s\n",
      "[CV] n_estimators=150, max_features=4, max_depth=8 ...................\n",
      "[CV] .... n_estimators=150, max_features=1, max_depth=7, total=   0.2s\n",
      "[CV] .... n_estimators=150, max_features=1, max_depth=7, total=   0.2s\n",
      "[CV] n_estimators=150, max_features=4, max_depth=8 ...................\n",
      "[CV] .... n_estimators=150, max_features=1, max_depth=7, total=   0.2s\n",
      "[CV] n_estimators=150, max_features=4, max_depth=8 ...................\n",
      "[CV] n_estimators=150, max_features=4, max_depth=8 ...................\n",
      "[CV] .... n_estimators=150, max_features=1, max_depth=7, total=   0.2s\n",
      "[CV] .... n_estimators=150, max_features=1, max_depth=7, total=   0.2s\n",
      "[CV] .... n_estimators=150, max_features=1, max_depth=7, total=   0.2s\n",
      "[CV] n_estimators=150, max_features=4, max_depth=8 ...................\n",
      "[CV] n_estimators=150, max_features=4, max_depth=8 ...................\n",
      "[CV] n_estimators=150, max_features=4, max_depth=8 ...................\n",
      "[CV] .... n_estimators=150, max_features=1, max_depth=7, total=   0.2s\n",
      "[CV] n_estimators=150, max_features=4, max_depth=8 ...................\n",
      "[CV] .... n_estimators=150, max_features=1, max_depth=7, total=   0.2s\n",
      "[CV] n_estimators=150, max_features=4, max_depth=8 ...................\n",
      "[CV] .... n_estimators=150, max_features=1, max_depth=7, total=   0.3s\n",
      "[CV] n_estimators=150, max_features=4, max_depth=8 ...................\n",
      "[CV] .... n_estimators=150, max_features=4, max_depth=8, total=   0.3s\n",
      "[CV] .... n_estimators=150, max_features=4, max_depth=8, total=   0.3s\n",
      "[CV] n_estimators=100, max_features=10, max_depth=7 ..................\n",
      "[CV] n_estimators=100, max_features=10, max_depth=7 ..................\n",
      "[CV] .... n_estimators=150, max_features=4, max_depth=8, total=   0.3s\n",
      "[CV] n_estimators=100, max_features=10, max_depth=7 ..................\n",
      "[CV] .... n_estimators=150, max_features=4, max_depth=8, total=   0.3s\n",
      "[CV] n_estimators=100, max_features=10, max_depth=7 ..................\n",
      "[CV] .... n_estimators=150, max_features=4, max_depth=8, total=   0.3s\n",
      "[CV] n_estimators=100, max_features=10, max_depth=7 ..................\n",
      "[CV] .... n_estimators=150, max_features=4, max_depth=8, total=   0.3s\n",
      "[CV] .... n_estimators=150, max_features=4, max_depth=8, total=   0.3s\n",
      "[CV] n_estimators=100, max_features=10, max_depth=7 ..................\n",
      "[CV] n_estimators=100, max_features=10, max_depth=7 ..................\n",
      "[CV] .... n_estimators=150, max_features=4, max_depth=8, total=   0.3s\n",
      "[CV] n_estimators=100, max_features=10, max_depth=7 ..................\n",
      "[CV] .... n_estimators=150, max_features=4, max_depth=8, total=   0.3s\n",
      "[CV] n_estimators=100, max_features=10, max_depth=7 ..................\n",
      "[CV] .... n_estimators=150, max_features=4, max_depth=8, total=   0.3s\n",
      "[CV] n_estimators=100, max_features=10, max_depth=7 ..................\n",
      "[CV] ... n_estimators=100, max_features=10, max_depth=7, total=   0.2s\n",
      "[CV] ... n_estimators=100, max_features=10, max_depth=7, total=   0.2s\n",
      "[CV] n_estimators=150, max_features=12, max_depth=5 ..................\n",
      "[CV] n_estimators=150, max_features=12, max_depth=5 ..................\n",
      "[CV] ... n_estimators=100, max_features=10, max_depth=7, total=   0.2s\n",
      "[CV] n_estimators=150, max_features=12, max_depth=5 ..................\n",
      "[CV] ... n_estimators=100, max_features=10, max_depth=7, total=   0.2s\n",
      "[CV] ... n_estimators=100, max_features=10, max_depth=7, total=   0.2s\n",
      "[CV] n_estimators=150, max_features=12, max_depth=5 ..................\n",
      "[CV] ... n_estimators=100, max_features=10, max_depth=7, total=   0.2s\n",
      "[CV] n_estimators=150, max_features=12, max_depth=5 ..................\n",
      "[CV] n_estimators=150, max_features=12, max_depth=5 ..................\n",
      "[CV] ... n_estimators=100, max_features=10, max_depth=7, total=   0.2s\n",
      "[CV] n_estimators=150, max_features=12, max_depth=5 ..................\n",
      "[CV] ... n_estimators=100, max_features=10, max_depth=7, total=   0.2s\n",
      "[CV] n_estimators=150, max_features=12, max_depth=5 ..................\n",
      "[CV] ... n_estimators=100, max_features=10, max_depth=7, total=   0.2s\n",
      "[CV] n_estimators=150, max_features=12, max_depth=5 ..................\n",
      "[CV] ... n_estimators=100, max_features=10, max_depth=7, total=   0.2s\n",
      "[CV] n_estimators=150, max_features=12, max_depth=5 ..................\n",
      "[CV] ... n_estimators=150, max_features=12, max_depth=5, total=   0.3s\n",
      "[CV] n_estimators=100, max_features=11, max_depth=13 .................\n",
      "[CV] ... n_estimators=150, max_features=12, max_depth=5, total=   0.3s\n",
      "[CV] n_estimators=100, max_features=11, max_depth=13 .................\n",
      "[CV] ... n_estimators=150, max_features=12, max_depth=5, total=   0.3s\n",
      "[CV] ... n_estimators=150, max_features=12, max_depth=5, total=   0.3s\n",
      "[CV] n_estimators=100, max_features=11, max_depth=13 .................\n",
      "[CV] n_estimators=100, max_features=11, max_depth=13 .................\n",
      "[CV] ... n_estimators=150, max_features=12, max_depth=5, total=   0.3s\n",
      "[CV] n_estimators=100, max_features=11, max_depth=13 .................\n",
      "[CV] ... n_estimators=150, max_features=12, max_depth=5, total=   0.3s\n",
      "[CV] n_estimators=100, max_features=11, max_depth=13 .................\n",
      "[CV] ... n_estimators=150, max_features=12, max_depth=5, total=   0.3s\n",
      "[CV] n_estimators=100, max_features=11, max_depth=13 .................\n",
      "[CV] ... n_estimators=150, max_features=12, max_depth=5, total=   0.3s\n",
      "[CV] n_estimators=100, max_features=11, max_depth=13 .................\n",
      "[CV] ... n_estimators=150, max_features=12, max_depth=5, total=   0.3s\n",
      "[CV] n_estimators=100, max_features=11, max_depth=13 .................\n",
      "[CV] ... n_estimators=150, max_features=12, max_depth=5, total=   0.4s\n",
      "[CV] n_estimators=100, max_features=11, max_depth=13 .................\n",
      "[CV] .. n_estimators=100, max_features=11, max_depth=13, total=   0.4s\n",
      "[CV] n_estimators=100, max_features=15, max_depth=3 ..................\n",
      "[CV] .. n_estimators=100, max_features=11, max_depth=13, total=   0.3s\n",
      "[CV] n_estimators=100, max_features=15, max_depth=3 ..................\n",
      "[CV] .. n_estimators=100, max_features=11, max_depth=13, total=   0.4s\n",
      "[CV] .. n_estimators=100, max_features=11, max_depth=13, total=   0.3s\n",
      "[CV] n_estimators=100, max_features=15, max_depth=3 ..................\n",
      "[CV] n_estimators=100, max_features=15, max_depth=3 ..................\n",
      "[CV] .. n_estimators=100, max_features=11, max_depth=13, total=   0.3s\n",
      "[CV] n_estimators=100, max_features=15, max_depth=3 ..................\n",
      "[CV] .. n_estimators=100, max_features=11, max_depth=13, total=   0.4s\n",
      "[CV] n_estimators=100, max_features=15, max_depth=3 ..................\n",
      "[CV] .. n_estimators=100, max_features=11, max_depth=13, total=   0.3s\n",
      "[CV] .. n_estimators=100, max_features=11, max_depth=13, total=   0.3s\n",
      "[CV] n_estimators=100, max_features=15, max_depth=3 ..................\n",
      "[CV] .. n_estimators=100, max_features=11, max_depth=13, total=   0.4s\n",
      "[CV] n_estimators=100, max_features=15, max_depth=3 ..................\n",
      "[CV] n_estimators=100, max_features=15, max_depth=3 ..................\n",
      "[CV] .. n_estimators=100, max_features=11, max_depth=13, total=   0.4s\n",
      "[CV] n_estimators=100, max_features=15, max_depth=3 ..................\n",
      "[CV] ... n_estimators=100, max_features=15, max_depth=3, total=   0.2s\n",
      "[CV] ... n_estimators=100, max_features=15, max_depth=3, total=   0.1s\n",
      "[CV] ... n_estimators=100, max_features=15, max_depth=3, total=   0.2s\n",
      "[CV] ... n_estimators=100, max_features=15, max_depth=3, total=   0.2s\n",
      "[CV] ... n_estimators=100, max_features=15, max_depth=3, total=   0.2s\n",
      "[CV] ... n_estimators=100, max_features=15, max_depth=3, total=   0.2s\n",
      "[CV] ... n_estimators=100, max_features=15, max_depth=3, total=   0.2s\n",
      "[CV] ... n_estimators=100, max_features=15, max_depth=3, total=   0.2s\n",
      "[CV] ... n_estimators=100, max_features=15, max_depth=3, total=   0.2s\n",
      "[CV] ... n_estimators=100, max_features=15, max_depth=3, total=   0.2s\n"
     ]
    },
    {
     "name": "stderr",
     "output_type": "stream",
     "text": [
      "[Parallel(n_jobs=-1)]: Done 100 out of 100 | elapsed:    3.6s finished\n"
     ]
    },
    {
     "data": {
      "text/plain": [
       "RandomizedSearchCV(cv=10, estimator=RandomForestRegressor(), n_jobs=-1,\n",
       "                   param_distributions={'max_depth': array([ 3,  4,  5,  6,  7,  8,  9, 10, 11, 12, 13, 14]),\n",
       "                                        'max_features': array([ 0,  1,  2,  3,  4,  5,  6,  7,  8,  9, 10, 11, 12, 13, 14, 15, 16,\n",
       "       17, 18]),\n",
       "                                        'n_estimators': [100, 150]},\n",
       "                   random_state=42, return_train_score=True,\n",
       "                   scoring='neg_mean_absolute_error', verbose=2)"
      ]
     },
     "execution_count": 104,
     "metadata": {},
     "output_type": "execute_result"
    }
   ],
   "source": [
    "rf = RandomForestRegressor()\n",
    "rf_random = RandomizedSearchCV(estimator = rf, \n",
    "                            param_distributions = random_grid, \n",
    "                            n_iter = 10, \n",
    "                            cv = 10, \n",
    "                            verbose=2, \n",
    "                            random_state=42,\n",
    "                            scoring    = 'neg_mean_absolute_error',\n",
    "                            return_train_score = True,\n",
    "                            n_jobs = -1)\n",
    "rf_random.fit(X_train, y_train)"
   ]
  },
  {
   "cell_type": "code",
   "execution_count": 105,
   "metadata": {},
   "outputs": [
    {
     "data": {
      "text/plain": [
       "{'n_estimators': 150, 'max_features': 4, 'max_depth': 8}"
      ]
     },
     "execution_count": 105,
     "metadata": {},
     "output_type": "execute_result"
    }
   ],
   "source": [
    "rf_random.best_params_"
   ]
  },
  {
   "cell_type": "code",
   "execution_count": 106,
   "metadata": {},
   "outputs": [
    {
     "data": {
      "text/plain": [
       "-67.73845048937433"
      ]
     },
     "execution_count": 106,
     "metadata": {},
     "output_type": "execute_result"
    }
   ],
   "source": [
    "rf_random.best_score_"
   ]
  },
  {
   "cell_type": "code",
   "execution_count": 62,
   "metadata": {},
   "outputs": [],
   "source": [
    "modelo = rf_random.best_estimator_.fit(X_train,y_train)"
   ]
  },
  {
   "cell_type": "code",
   "execution_count": 107,
   "metadata": {},
   "outputs": [
    {
     "data": {
      "text/plain": [
       "RandomForestRegressor(max_depth=8, max_features=4, n_estimators=150)"
      ]
     },
     "execution_count": 107,
     "metadata": {},
     "output_type": "execute_result"
    }
   ],
   "source": [
    "rf_op = RandomForestRegressor(n_estimators=150,\n",
    "                           max_depth=8,\n",
    "                           max_features=4)\n",
    "rf_op.fit(X_train,y_train)"
   ]
  },
  {
   "cell_type": "code",
   "execution_count": 108,
   "metadata": {},
   "outputs": [
    {
     "name": "stdout",
     "output_type": "stream",
     "text": [
      "RMSE Train: 101.71194529939675\n",
      "\n",
      "RMSE Test: 193.47957399876225\n",
      "\n",
      "MAE Train: 54.26143597938823\n",
      "\n",
      "MAE Test: 75.89702270305035\n",
      "\n",
      "R^2(train)= 0.5345380889466667\n",
      "R^2_ajt(train)= 0.5312516614810356\n",
      "\n",
      "R^2(test)= 0.1282229352670209\n",
      "R^2_ajt(test)= 0.12206769029120279\n",
      "\n"
     ]
    },
    {
     "name": "stderr",
     "output_type": "stream",
     "text": [
      "/usr/local/Caskroom/miniconda/base/envs/dhdsblend2021/lib/python3.8/site-packages/seaborn/distributions.py:2551: FutureWarning: `distplot` is a deprecated function and will be removed in a future version. Please adapt your code to use either `displot` (a figure-level function with similar flexibility) or `histplot` (an axes-level function for histograms).\n",
      "  warnings.warn(msg, FutureWarning)\n",
      "/usr/local/Caskroom/miniconda/base/envs/dhdsblend2021/lib/python3.8/site-packages/seaborn/distributions.py:2551: FutureWarning: `distplot` is a deprecated function and will be removed in a future version. Please adapt your code to use either `displot` (a figure-level function with similar flexibility) or `histplot` (an axes-level function for histograms).\n",
      "  warnings.warn(msg, FutureWarning)\n"
     ]
    },
    {
     "data": {
      "image/png": "[encoded data removed]",
      "text/plain": [
       "<Figure size 864x288 with 2 Axes>"
      ]
     },
     "metadata": {
      "needs_background": "light"
     },
     "output_type": "display_data"
    }
   ],
   "source": [
    "model_ev(X_train,X_test,y_train,y_test,rf_op)"
   ]
  },
  {
   "cell_type": "code",
   "execution_count": 73,
   "metadata": {},
   "outputs": [
    {
     "data": {
      "text/plain": [
       "879       7.00\n",
       "2165      4.17\n",
       "2533    787.00\n",
       "1632     25.00\n",
       "2348    240.00\n",
       "         ...  \n",
       "1638     61.00\n",
       "1095     97.00\n",
       "1130     27.00\n",
       "1294     16.00\n",
       "860     164.00\n",
       "Name: valor, Length: 1897, dtype: float64"
      ]
     },
     "execution_count": 73,
     "metadata": {},
     "output_type": "execute_result"
    }
   ],
   "source": [
    "y_train"
   ]
  },
  {
   "cell_type": "code",
   "execution_count": 110,
   "metadata": {},
   "outputs": [
    {
     "name": "stdout",
     "output_type": "stream",
     "text": [
      "MAE TEST:  82.27260846683427 MAE TRAIN:  43.39634617039852\n"
     ]
    }
   ],
   "source": [
    "eval_model_CV(modelo,\"RandomForest, optimizado\", X_test, y_test,10)"
   ]
  },
  {
   "cell_type": "code",
   "execution_count": 761,
   "metadata": {},
   "outputs": [
    {
     "data": {
      "text/plain": [
       "DecisionTreeRegressor()"
      ]
     },
     "execution_count": 761,
     "metadata": {},
     "output_type": "execute_result"
    }
   ],
   "source": [
    "rf_op.base_estimator_"
   ]
  },
  {
   "cell_type": "code",
   "execution_count": 710,
   "metadata": {},
   "outputs": [
    {
     "data": {
      "text/html": [
       "<div>\n",
       "<style scoped>\n",
       "    .dataframe tbody tr th:only-of-type {\n",
       "        vertical-align: middle;\n",
       "    }\n",
       "\n",
       "    .dataframe tbody tr th {\n",
       "        vertical-align: top;\n",
       "    }\n",
       "\n",
       "    .dataframe thead th {\n",
       "        text-align: right;\n",
       "    }\n",
       "</style>\n",
       "<table border=\"1\" class=\"dataframe\">\n",
       "  <thead>\n",
       "    <tr style=\"text-align: right;\">\n",
       "      <th></th>\n",
       "      <th>temp_out</th>\n",
       "      <th>hum_out</th>\n",
       "      <th>rainfall_mm</th>\n",
       "      <th>wind_speed_avg</th>\n",
       "      <th>wind_speed_hi</th>\n",
       "      <th>CHIN (CHIN)</th>\n",
       "    </tr>\n",
       "  </thead>\n",
       "  <tbody>\n",
       "    <tr>\n",
       "      <th>17326</th>\n",
       "      <td>4.443750</td>\n",
       "      <td>13.020833</td>\n",
       "      <td>0.0</td>\n",
       "      <td>6.833333</td>\n",
       "      <td>54</td>\n",
       "      <td>1</td>\n",
       "    </tr>\n",
       "    <tr>\n",
       "      <th>21518</th>\n",
       "      <td>5.737500</td>\n",
       "      <td>23.687500</td>\n",
       "      <td>0.0</td>\n",
       "      <td>8.791667</td>\n",
       "      <td>45</td>\n",
       "      <td>1</td>\n",
       "    </tr>\n",
       "    <tr>\n",
       "      <th>25662</th>\n",
       "      <td>3.950000</td>\n",
       "      <td>16.791667</td>\n",
       "      <td>0.0</td>\n",
       "      <td>7.375000</td>\n",
       "      <td>46</td>\n",
       "      <td>1</td>\n",
       "    </tr>\n",
       "    <tr>\n",
       "      <th>23501</th>\n",
       "      <td>7.889583</td>\n",
       "      <td>22.270833</td>\n",
       "      <td>0.0</td>\n",
       "      <td>19.625000</td>\n",
       "      <td>86</td>\n",
       "      <td>1</td>\n",
       "    </tr>\n",
       "    <tr>\n",
       "      <th>20491</th>\n",
       "      <td>6.108333</td>\n",
       "      <td>16.062500</td>\n",
       "      <td>0.0</td>\n",
       "      <td>3.520833</td>\n",
       "      <td>51</td>\n",
       "      <td>1</td>\n",
       "    </tr>\n",
       "    <tr>\n",
       "      <th>...</th>\n",
       "      <td>...</td>\n",
       "      <td>...</td>\n",
       "      <td>...</td>\n",
       "      <td>...</td>\n",
       "      <td>...</td>\n",
       "      <td>...</td>\n",
       "    </tr>\n",
       "    <tr>\n",
       "      <th>16890</th>\n",
       "      <td>9.183333</td>\n",
       "      <td>29.375000</td>\n",
       "      <td>0.0</td>\n",
       "      <td>4.875000</td>\n",
       "      <td>45</td>\n",
       "      <td>1</td>\n",
       "    </tr>\n",
       "    <tr>\n",
       "      <th>26053</th>\n",
       "      <td>7.931250</td>\n",
       "      <td>55.250000</td>\n",
       "      <td>0.0</td>\n",
       "      <td>7.354167</td>\n",
       "      <td>37</td>\n",
       "      <td>1</td>\n",
       "    </tr>\n",
       "    <tr>\n",
       "      <th>18984</th>\n",
       "      <td>8.758333</td>\n",
       "      <td>65.854167</td>\n",
       "      <td>0.0</td>\n",
       "      <td>6.312500</td>\n",
       "      <td>30</td>\n",
       "      <td>1</td>\n",
       "    </tr>\n",
       "    <tr>\n",
       "      <th>23101</th>\n",
       "      <td>3.231250</td>\n",
       "      <td>18.375000</td>\n",
       "      <td>0.0</td>\n",
       "      <td>5.354167</td>\n",
       "      <td>29</td>\n",
       "      <td>1</td>\n",
       "    </tr>\n",
       "    <tr>\n",
       "      <th>25312</th>\n",
       "      <td>6.558333</td>\n",
       "      <td>39.708333</td>\n",
       "      <td>0.0</td>\n",
       "      <td>27.625000</td>\n",
       "      <td>86</td>\n",
       "      <td>1</td>\n",
       "    </tr>\n",
       "  </tbody>\n",
       "</table>\n",
       "<p>680 rows × 6 columns</p>\n",
       "</div>"
      ],
      "text/plain": [
       "       temp_out    hum_out  rainfall_mm  wind_speed_avg  wind_speed_hi  \\\n",
       "17326  4.443750  13.020833          0.0        6.833333             54   \n",
       "21518  5.737500  23.687500          0.0        8.791667             45   \n",
       "25662  3.950000  16.791667          0.0        7.375000             46   \n",
       "23501  7.889583  22.270833          0.0       19.625000             86   \n",
       "20491  6.108333  16.062500          0.0        3.520833             51   \n",
       "...         ...        ...          ...             ...            ...   \n",
       "16890  9.183333  29.375000          0.0        4.875000             45   \n",
       "26053  7.931250  55.250000          0.0        7.354167             37   \n",
       "18984  8.758333  65.854167          0.0        6.312500             30   \n",
       "23101  3.231250  18.375000          0.0        5.354167             29   \n",
       "25312  6.558333  39.708333          0.0       27.625000             86   \n",
       "\n",
       "       CHIN (CHIN)  \n",
       "17326            1  \n",
       "21518            1  \n",
       "25662            1  \n",
       "23501            1  \n",
       "20491            1  \n",
       "...            ...  \n",
       "16890            1  \n",
       "26053            1  \n",
       "18984            1  \n",
       "23101            1  \n",
       "25312            1  \n",
       "\n",
       "[680 rows x 6 columns]"
      ]
     },
     "execution_count": 710,
     "metadata": {},
     "output_type": "execute_result"
    }
   ],
   "source": [
    "X_test"
   ]
  },
  {
   "cell_type": "code",
   "execution_count": 711,
   "metadata": {},
   "outputs": [
    {
     "data": {
      "text/plain": [
       "17326     30.00000\n",
       "21518     33.33000\n",
       "25662     84.00000\n",
       "23501    433.25000\n",
       "20491    195.79000\n",
       "           ...    \n",
       "16890     99.00000\n",
       "26053    609.00000\n",
       "18984      7.00000\n",
       "23101     79.15000\n",
       "25312     20.82917\n",
       "Name: valor, Length: 680, dtype: float64"
      ]
     },
     "execution_count": 711,
     "metadata": {},
     "output_type": "execute_result"
    }
   ],
   "source": [
    "y_test"
   ]
  },
  {
   "cell_type": "code",
   "execution_count": 712,
   "metadata": {},
   "outputs": [
    {
     "data": {
      "text/plain": [
       "0       32.533960\n",
       "1       35.085240\n",
       "2       84.789212\n",
       "3      433.250000\n",
       "4      188.688168\n",
       "          ...    \n",
       "675     94.266976\n",
       "676    609.000000\n",
       "677      8.207841\n",
       "678     79.289115\n",
       "679     21.262190\n",
       "Length: 680, dtype: float64"
      ]
     },
     "execution_count": 712,
     "metadata": {},
     "output_type": "execute_result"
    }
   ],
   "source": [
    "pd.Series(rf_op.predict(X_test))"
   ]
  },
  {
   "cell_type": "code",
   "execution_count": 713,
   "metadata": {},
   "outputs": [
    {
     "data": {
      "image/png": "[encoded data removed]",
      "text/plain": [
       "<Figure size 576x432 with 1 Axes>"
      ]
     },
     "metadata": {
      "needs_background": "light"
     },
     "output_type": "display_data"
    }
   ],
   "source": [
    "plt.figure(figsize = (8, 6))\n",
    "sns.barplot(data= pd.DataFrame({\n",
    "    \"Variables\": X.columns,\n",
    "    \"importancias\": rf_op.feature_importances_}).sort_values(\"importancias\", ascending= False),\n",
    "            x = \"Variables\", y = \"importancias\", palette= \"nipy_spectral_r\")\n",
    "plt.xlabel(\"Variables\", fontweight = \"black\", fontsize = 12)\n",
    "plt.title(\"Importancia de cada variable en el modelo\", fontsize = 18, color = \"r\")\n",
    "plt.xticks(rotation=90, size=10)\n",
    "plt.show()"
   ]
  },
  {
   "cell_type": "code",
   "execution_count": 714,
   "metadata": {},
   "outputs": [],
   "source": [
    "from sklearn.ensemble import GradientBoostingRegressor"
   ]
  },
  {
   "cell_type": "code",
   "execution_count": 715,
   "metadata": {},
   "outputs": [
    {
     "data": {
      "text/plain": [
       "GradientBoostingRegressor()"
      ]
     },
     "execution_count": 715,
     "metadata": {},
     "output_type": "execute_result"
    }
   ],
   "source": [
    "ensemble = GradientBoostingRegressor()\n",
    "ensemble.fit(X_train, y_train)\n",
    "#results = cross_validate(ensemble,X,y, cv=5, scoring = 'neg_root_mean_squared_error',return_train_score= True )"
   ]
  },
  {
   "cell_type": "code",
   "execution_count": 716,
   "metadata": {},
   "outputs": [
    {
     "name": "stdout",
     "output_type": "stream",
     "text": [
      "MAE TEST:  78.85077053510211 MAE TRAIN:  71.86346630100391\n"
     ]
    }
   ],
   "source": [
    "eval_model_CV(ensemble, 'GBR, sin OP', X_train, y_train, 5)"
   ]
  },
  {
   "cell_type": "code",
   "execution_count": 717,
   "metadata": {},
   "outputs": [
    {
     "name": "stdout",
     "output_type": "stream",
     "text": [
      "RMSE Train: 117.20625664914726\n",
      "\n",
      "RMSE Test: 139.26596022931952\n",
      "\n",
      "MAE Train: 76.5980498230379\n",
      "\n",
      "MAE Test: 85.20555078170544\n",
      "\n",
      "R^2(train)= 0.866383136258263\n",
      "R^2_ajt(train)= 0.8660282441898919\n",
      "\n",
      "R^2(test)= 0.8082369916218156\n",
      "R^2_ajt(test)= 0.807727660922272\n",
      "\n"
     ]
    },
    {
     "name": "stderr",
     "output_type": "stream",
     "text": [
      "/usr/local/Caskroom/miniconda/base/envs/dhdsblend2021/lib/python3.8/site-packages/seaborn/distributions.py:2551: FutureWarning: `distplot` is a deprecated function and will be removed in a future version. Please adapt your code to use either `displot` (a figure-level function with similar flexibility) or `histplot` (an axes-level function for histograms).\n",
      "  warnings.warn(msg, FutureWarning)\n",
      "/usr/local/Caskroom/miniconda/base/envs/dhdsblend2021/lib/python3.8/site-packages/seaborn/distributions.py:2551: FutureWarning: `distplot` is a deprecated function and will be removed in a future version. Please adapt your code to use either `displot` (a figure-level function with similar flexibility) or `histplot` (an axes-level function for histograms).\n",
      "  warnings.warn(msg, FutureWarning)\n"
     ]
    },
    {
     "data": {
      "image/png": "[encoded data removed]",
      "text/plain": [
       "<Figure size 864x288 with 2 Axes>"
      ]
     },
     "metadata": {
      "needs_background": "light"
     },
     "output_type": "display_data"
    }
   ],
   "source": [
    "model_ev(X_train,X_test,y_train,y_test, ensemble)"
   ]
  },
  {
   "cell_type": "markdown",
   "metadata": {},
   "source": [
    "### Pipeline"
   ]
  },
  {
   "cell_type": "code",
   "execution_count": 718,
   "metadata": {},
   "outputs": [],
   "source": [
    "from sklearn import preprocessing"
   ]
  },
  {
   "cell_type": "code",
   "execution_count": 719,
   "metadata": {},
   "outputs": [
    {
     "data": {
      "text/html": [
       "<div>\n",
       "<style scoped>\n",
       "    .dataframe tbody tr th:only-of-type {\n",
       "        vertical-align: middle;\n",
       "    }\n",
       "\n",
       "    .dataframe tbody tr th {\n",
       "        vertical-align: top;\n",
       "    }\n",
       "\n",
       "    .dataframe thead th {\n",
       "        text-align: right;\n",
       "    }\n",
       "</style>\n",
       "<table border=\"1\" class=\"dataframe\">\n",
       "  <thead>\n",
       "    <tr style=\"text-align: right;\">\n",
       "      <th></th>\n",
       "      <th>temp_out</th>\n",
       "      <th>hum_out</th>\n",
       "      <th>rainfall_mm</th>\n",
       "      <th>wind_speed_avg</th>\n",
       "      <th>wind_speed_hi</th>\n",
       "      <th>CHIN (CHIN)</th>\n",
       "    </tr>\n",
       "  </thead>\n",
       "  <tbody>\n",
       "    <tr>\n",
       "      <th>16145</th>\n",
       "      <td>9.489583</td>\n",
       "      <td>45.104167</td>\n",
       "      <td>12.6</td>\n",
       "      <td>4.395833</td>\n",
       "      <td>51</td>\n",
       "      <td>1</td>\n",
       "    </tr>\n",
       "    <tr>\n",
       "      <th>19316</th>\n",
       "      <td>7.639583</td>\n",
       "      <td>79.791667</td>\n",
       "      <td>5.4</td>\n",
       "      <td>4.729167</td>\n",
       "      <td>29</td>\n",
       "      <td>1</td>\n",
       "    </tr>\n",
       "    <tr>\n",
       "      <th>26041</th>\n",
       "      <td>7.931250</td>\n",
       "      <td>55.250000</td>\n",
       "      <td>0.0</td>\n",
       "      <td>7.354167</td>\n",
       "      <td>37</td>\n",
       "      <td>1</td>\n",
       "    </tr>\n",
       "    <tr>\n",
       "      <th>26626</th>\n",
       "      <td>4.850000</td>\n",
       "      <td>21.333333</td>\n",
       "      <td>0.0</td>\n",
       "      <td>10.500000</td>\n",
       "      <td>48</td>\n",
       "      <td>1</td>\n",
       "    </tr>\n",
       "    <tr>\n",
       "      <th>18668</th>\n",
       "      <td>5.554167</td>\n",
       "      <td>20.062500</td>\n",
       "      <td>0.0</td>\n",
       "      <td>19.166667</td>\n",
       "      <td>75</td>\n",
       "      <td>1</td>\n",
       "    </tr>\n",
       "    <tr>\n",
       "      <th>...</th>\n",
       "      <td>...</td>\n",
       "      <td>...</td>\n",
       "      <td>...</td>\n",
       "      <td>...</td>\n",
       "      <td>...</td>\n",
       "      <td>...</td>\n",
       "    </tr>\n",
       "    <tr>\n",
       "      <th>25794</th>\n",
       "      <td>5.881250</td>\n",
       "      <td>31.166667</td>\n",
       "      <td>0.0</td>\n",
       "      <td>6.145833</td>\n",
       "      <td>35</td>\n",
       "      <td>1</td>\n",
       "    </tr>\n",
       "    <tr>\n",
       "      <th>23548</th>\n",
       "      <td>7.889583</td>\n",
       "      <td>22.270833</td>\n",
       "      <td>0.0</td>\n",
       "      <td>19.625000</td>\n",
       "      <td>86</td>\n",
       "      <td>1</td>\n",
       "    </tr>\n",
       "    <tr>\n",
       "      <th>23780</th>\n",
       "      <td>7.400000</td>\n",
       "      <td>46.666667</td>\n",
       "      <td>0.0</td>\n",
       "      <td>8.854167</td>\n",
       "      <td>53</td>\n",
       "      <td>1</td>\n",
       "    </tr>\n",
       "    <tr>\n",
       "      <th>24841</th>\n",
       "      <td>9.862500</td>\n",
       "      <td>44.166667</td>\n",
       "      <td>0.0</td>\n",
       "      <td>15.875000</td>\n",
       "      <td>82</td>\n",
       "      <td>1</td>\n",
       "    </tr>\n",
       "    <tr>\n",
       "      <th>21884</th>\n",
       "      <td>8.508333</td>\n",
       "      <td>28.666667</td>\n",
       "      <td>0.0</td>\n",
       "      <td>7.104167</td>\n",
       "      <td>56</td>\n",
       "      <td>1</td>\n",
       "    </tr>\n",
       "  </tbody>\n",
       "</table>\n",
       "<p>1586 rows × 6 columns</p>\n",
       "</div>"
      ],
      "text/plain": [
       "       temp_out    hum_out  rainfall_mm  wind_speed_avg  wind_speed_hi  \\\n",
       "16145  9.489583  45.104167         12.6        4.395833             51   \n",
       "19316  7.639583  79.791667          5.4        4.729167             29   \n",
       "26041  7.931250  55.250000          0.0        7.354167             37   \n",
       "26626  4.850000  21.333333          0.0       10.500000             48   \n",
       "18668  5.554167  20.062500          0.0       19.166667             75   \n",
       "...         ...        ...          ...             ...            ...   \n",
       "25794  5.881250  31.166667          0.0        6.145833             35   \n",
       "23548  7.889583  22.270833          0.0       19.625000             86   \n",
       "23780  7.400000  46.666667          0.0        8.854167             53   \n",
       "24841  9.862500  44.166667          0.0       15.875000             82   \n",
       "21884  8.508333  28.666667          0.0        7.104167             56   \n",
       "\n",
       "       CHIN (CHIN)  \n",
       "16145            1  \n",
       "19316            1  \n",
       "26041            1  \n",
       "26626            1  \n",
       "18668            1  \n",
       "...            ...  \n",
       "25794            1  \n",
       "23548            1  \n",
       "23780            1  \n",
       "24841            1  \n",
       "21884            1  \n",
       "\n",
       "[1586 rows x 6 columns]"
      ]
     },
     "execution_count": 719,
     "metadata": {},
     "output_type": "execute_result"
    }
   ],
   "source": [
    "X_train"
   ]
  },
  {
   "cell_type": "code",
   "execution_count": 720,
   "metadata": {},
   "outputs": [
    {
     "data": {
      "text/html": [
       "<div>\n",
       "<style scoped>\n",
       "    .dataframe tbody tr th:only-of-type {\n",
       "        vertical-align: middle;\n",
       "    }\n",
       "\n",
       "    .dataframe tbody tr th {\n",
       "        vertical-align: top;\n",
       "    }\n",
       "\n",
       "    .dataframe thead th {\n",
       "        text-align: right;\n",
       "    }\n",
       "</style>\n",
       "<table border=\"1\" class=\"dataframe\">\n",
       "  <thead>\n",
       "    <tr style=\"text-align: right;\">\n",
       "      <th></th>\n",
       "      <th>0</th>\n",
       "      <th>1</th>\n",
       "      <th>2</th>\n",
       "      <th>3</th>\n",
       "      <th>4</th>\n",
       "      <th>5</th>\n",
       "    </tr>\n",
       "  </thead>\n",
       "  <tbody>\n",
       "    <tr>\n",
       "      <th>0</th>\n",
       "      <td>0.959197</td>\n",
       "      <td>0.526254</td>\n",
       "      <td>0.647851</td>\n",
       "      <td>-0.806803</td>\n",
       "      <td>-0.160472</td>\n",
       "      <td>0.0</td>\n",
       "    </tr>\n",
       "    <tr>\n",
       "      <th>1</th>\n",
       "      <td>0.354716</td>\n",
       "      <td>2.322996</td>\n",
       "      <td>0.116161</td>\n",
       "      <td>-0.758691</td>\n",
       "      <td>-1.363047</td>\n",
       "      <td>0.0</td>\n",
       "    </tr>\n",
       "    <tr>\n",
       "      <th>2</th>\n",
       "      <td>0.450017</td>\n",
       "      <td>1.051788</td>\n",
       "      <td>-0.282607</td>\n",
       "      <td>-0.379809</td>\n",
       "      <td>-0.925747</td>\n",
       "      <td>0.0</td>\n",
       "    </tr>\n",
       "    <tr>\n",
       "      <th>3</th>\n",
       "      <td>-0.556770</td>\n",
       "      <td>-0.705027</td>\n",
       "      <td>-0.282607</td>\n",
       "      <td>0.074248</td>\n",
       "      <td>-0.324460</td>\n",
       "      <td>0.0</td>\n",
       "    </tr>\n",
       "    <tr>\n",
       "      <th>4</th>\n",
       "      <td>-0.326686</td>\n",
       "      <td>-0.770853</td>\n",
       "      <td>-0.282607</td>\n",
       "      <td>1.325159</td>\n",
       "      <td>1.151428</td>\n",
       "      <td>0.0</td>\n",
       "    </tr>\n",
       "    <tr>\n",
       "      <th>...</th>\n",
       "      <td>...</td>\n",
       "      <td>...</td>\n",
       "      <td>...</td>\n",
       "      <td>...</td>\n",
       "      <td>...</td>\n",
       "      <td>...</td>\n",
       "    </tr>\n",
       "    <tr>\n",
       "      <th>1581</th>\n",
       "      <td>-0.219813</td>\n",
       "      <td>-0.195680</td>\n",
       "      <td>-0.282607</td>\n",
       "      <td>-0.554215</td>\n",
       "      <td>-1.035072</td>\n",
       "      <td>0.0</td>\n",
       "    </tr>\n",
       "    <tr>\n",
       "      <th>1582</th>\n",
       "      <td>0.436403</td>\n",
       "      <td>-0.656466</td>\n",
       "      <td>-0.282607</td>\n",
       "      <td>1.391313</td>\n",
       "      <td>1.752716</td>\n",
       "      <td>0.0</td>\n",
       "    </tr>\n",
       "    <tr>\n",
       "      <th>1583</th>\n",
       "      <td>0.276433</td>\n",
       "      <td>0.607188</td>\n",
       "      <td>-0.282607</td>\n",
       "      <td>-0.163305</td>\n",
       "      <td>-0.051147</td>\n",
       "      <td>0.0</td>\n",
       "    </tr>\n",
       "    <tr>\n",
       "      <th>1584</th>\n",
       "      <td>1.081046</td>\n",
       "      <td>0.477694</td>\n",
       "      <td>-0.282607</td>\n",
       "      <td>0.850053</td>\n",
       "      <td>1.534066</td>\n",
       "      <td>0.0</td>\n",
       "    </tr>\n",
       "    <tr>\n",
       "      <th>1585</th>\n",
       "      <td>0.638577</td>\n",
       "      <td>-0.325175</td>\n",
       "      <td>-0.282607</td>\n",
       "      <td>-0.415893</td>\n",
       "      <td>0.112841</td>\n",
       "      <td>0.0</td>\n",
       "    </tr>\n",
       "  </tbody>\n",
       "</table>\n",
       "<p>1586 rows × 6 columns</p>\n",
       "</div>"
      ],
      "text/plain": [
       "             0         1         2         3         4    5\n",
       "0     0.959197  0.526254  0.647851 -0.806803 -0.160472  0.0\n",
       "1     0.354716  2.322996  0.116161 -0.758691 -1.363047  0.0\n",
       "2     0.450017  1.051788 -0.282607 -0.379809 -0.925747  0.0\n",
       "3    -0.556770 -0.705027 -0.282607  0.074248 -0.324460  0.0\n",
       "4    -0.326686 -0.770853 -0.282607  1.325159  1.151428  0.0\n",
       "...        ...       ...       ...       ...       ...  ...\n",
       "1581 -0.219813 -0.195680 -0.282607 -0.554215 -1.035072  0.0\n",
       "1582  0.436403 -0.656466 -0.282607  1.391313  1.752716  0.0\n",
       "1583  0.276433  0.607188 -0.282607 -0.163305 -0.051147  0.0\n",
       "1584  1.081046  0.477694 -0.282607  0.850053  1.534066  0.0\n",
       "1585  0.638577 -0.325175 -0.282607 -0.415893  0.112841  0.0\n",
       "\n",
       "[1586 rows x 6 columns]"
      ]
     },
     "execution_count": 720,
     "metadata": {},
     "output_type": "execute_result"
    }
   ],
   "source": [
    "ss = preprocessing.StandardScaler()\n",
    "pd.DataFrame(ss.fit_transform(X_train))"
   ]
  },
  {
   "cell_type": "code",
   "execution_count": 721,
   "metadata": {},
   "outputs": [],
   "source": [
    "from sklearn.preprocessing import StandardScaler, OrdinalEncoder\n",
    "from sklearn.impute import SimpleImputer\n",
    "from sklearn.compose import ColumnTransformer\n",
    "from sklearn.pipeline import Pipeline"
   ]
  },
  {
   "cell_type": "code",
   "execution_count": 722,
   "metadata": {},
   "outputs": [],
   "source": [
    "numeric_transformer = Pipeline(steps=[('scaler', StandardScaler())])"
   ]
  },
  {
   "cell_type": "code",
   "execution_count": 723,
   "metadata": {},
   "outputs": [],
   "source": [
    "numeric_features = X_train.columns.to_list()"
   ]
  },
  {
   "cell_type": "code",
   "execution_count": 724,
   "metadata": {},
   "outputs": [],
   "source": [
    "preprocessor = ColumnTransformer(\n",
    "   transformers=[\n",
    "    ('numeric', numeric_transformer, numeric_features)\n",
    "]) "
   ]
  },
  {
   "cell_type": "code",
   "execution_count": 725,
   "metadata": {},
   "outputs": [],
   "source": [
    "pipeline = Pipeline(steps = [\n",
    "               ('preprocessor', preprocessor)\n",
    "              ,('regressor',RandomForestRegressor(n_estimators=150,\n",
    "                           max_depth=14,\n",
    "                           max_features=3))\n",
    "           ])"
   ]
  },
  {
   "cell_type": "code",
   "execution_count": 726,
   "metadata": {},
   "outputs": [
    {
     "name": "stdout",
     "output_type": "stream",
     "text": [
      "Pipeline(steps=[('preprocessor',\n",
      "                 ColumnTransformer(transformers=[('numeric',\n",
      "                                                  Pipeline(steps=[('scaler',\n",
      "                                                                   StandardScaler())]),\n",
      "                                                  ['temp_out', 'hum_out',\n",
      "                                                   'rainfall_mm',\n",
      "                                                   'wind_speed_avg',\n",
      "                                                   'wind_speed_hi',\n",
      "                                                   'CHIN (CHIN)'])])),\n",
      "                ('regressor',\n",
      "                 RandomForestRegressor(max_depth=14, max_features=3,\n",
      "                                       n_estimators=150))])\n"
     ]
    }
   ],
   "source": [
    "rf_model = pipeline.fit(X_train, y_train)\n",
    "print (rf_model)"
   ]
  },
  {
   "cell_type": "code",
   "execution_count": 727,
   "metadata": {},
   "outputs": [],
   "source": [
    "from sklearn.metrics import r2_score"
   ]
  },
  {
   "cell_type": "code",
   "execution_count": 728,
   "metadata": {},
   "outputs": [
    {
     "name": "stdout",
     "output_type": "stream",
     "text": [
      "0.9997890886436543\n"
     ]
    }
   ],
   "source": [
    "predictions = rf_model.predict(X_test)\n",
    "print (r2_score(y_test, predictions))"
   ]
  },
  {
   "cell_type": "code",
   "execution_count": 729,
   "metadata": {},
   "outputs": [
    {
     "name": "stdout",
     "output_type": "stream",
     "text": [
      "RMSE Train: 4.122385296859429\n",
      "\n",
      "RMSE Test: 5.179164843546646\n",
      "\n",
      "MAE Train: 2.3436972986182316\n",
      "\n",
      "MAE Test: 2.8790775225282035\n",
      "\n",
      "R^2(train)= 0.9998347060935944\n",
      "R^2_ajt(train)= 0.9998342670659545\n",
      "\n",
      "R^2(test)= 0.9997347872819079\n",
      "R^2_ajt(test)= 0.999734082865658\n",
      "\n"
     ]
    },
    {
     "name": "stderr",
     "output_type": "stream",
     "text": [
      "/usr/local/Caskroom/miniconda/base/envs/dhdsblend2021/lib/python3.8/site-packages/seaborn/distributions.py:2551: FutureWarning: `distplot` is a deprecated function and will be removed in a future version. Please adapt your code to use either `displot` (a figure-level function with similar flexibility) or `histplot` (an axes-level function for histograms).\n",
      "  warnings.warn(msg, FutureWarning)\n",
      "/usr/local/Caskroom/miniconda/base/envs/dhdsblend2021/lib/python3.8/site-packages/seaborn/distributions.py:2551: FutureWarning: `distplot` is a deprecated function and will be removed in a future version. Please adapt your code to use either `displot` (a figure-level function with similar flexibility) or `histplot` (an axes-level function for histograms).\n",
      "  warnings.warn(msg, FutureWarning)\n"
     ]
    },
    {
     "data": {
      "image/png": "[encoded data removed]",
      "text/plain": [
       "<Figure size 864x288 with 2 Axes>"
      ]
     },
     "metadata": {
      "needs_background": "light"
     },
     "output_type": "display_data"
    }
   ],
   "source": [
    "model_ev(X_train,X_test,y_train,y_test, rf_model)"
   ]
  },
  {
   "cell_type": "code",
   "execution_count": 730,
   "metadata": {},
   "outputs": [
    {
     "name": "stdout",
     "output_type": "stream",
     "text": [
      "MAE TEST:  5.647343177501088 MAE TRAIN:  3.689839913754264\n"
     ]
    }
   ],
   "source": [
    "eval_model_CV(rf_model, 'GBR, sin OP', X_train, y_train, 5)"
   ]
  },
  {
   "cell_type": "code",
   "execution_count": null,
   "metadata": {},
   "outputs": [],
   "source": [
    "# # init your shell first\n",
    "# conda init zsh\n",
    "# source ~/.zshrc # refresh your shell\n",
    "# source activate base # (optional, on linux) activate base env"
   ]
  },
  {
   "cell_type": "code",
   "execution_count": 121,
   "metadata": {},
   "outputs": [
    {
     "data": {
      "text/plain": [
       "array(['20V (20V)', 'VETA (VETA)', 'COY (COY)', 'NP3 (NP3)', 'NP4 (NP4)',\n",
       "       'LIV (LIV)', 'CHIN (CHIN)', 'STO-D (STO-D)', 'OROS (OROS)',\n",
       "       'CIEN (CIEN)', 'DOMO (DOMO)', 'S-MINA (S-MINA)', 'OROS2 (OROS2)',\n",
       "       'DCOLAS (DCOLAS)'], dtype=object)"
      ]
     },
     "execution_count": 121,
     "metadata": {},
     "output_type": "execute_result"
    }
   ],
   "source": [
    "data['sitio'].unique()"
   ]
  },
  {
   "cell_type": "code",
   "execution_count": 123,
   "metadata": {},
   "outputs": [
    {
     "name": "stdout",
     "output_type": "stream",
     "text": [
      "Sitio modelado: 20V (20V)\n",
      "MAE TEST:  48.27922127969912 MAE TRAIN:  20.088696434074254\n",
      "RMSE Train: 26.576707471918787\n",
      "\n",
      "RMSE Test: 58.08567179793639\n",
      "\n",
      "MAE Train: 20.827897796832023\n",
      "\n",
      "MAE Test: 48.12277383516271\n",
      "\n",
      "R^2(train)= 0.8052574799482776\n",
      "R^2_ajt(train)= 0.8029252341991551\n",
      "\n",
      "R^2(test)= -0.06052390396824214\n",
      "R^2_ajt(test)= -0.07322478904570606\n",
      "\n"
     ]
    },
    {
     "name": "stderr",
     "output_type": "stream",
     "text": [
      "/usr/local/Caskroom/miniconda/base/envs/dhdsblend2021/lib/python3.8/site-packages/seaborn/distributions.py:2551: FutureWarning: `distplot` is a deprecated function and will be removed in a future version. Please adapt your code to use either `displot` (a figure-level function with similar flexibility) or `histplot` (an axes-level function for histograms).\n",
      "  warnings.warn(msg, FutureWarning)\n",
      "/usr/local/Caskroom/miniconda/base/envs/dhdsblend2021/lib/python3.8/site-packages/seaborn/distributions.py:2551: FutureWarning: `distplot` is a deprecated function and will be removed in a future version. Please adapt your code to use either `displot` (a figure-level function with similar flexibility) or `histplot` (an axes-level function for histograms).\n",
      "  warnings.warn(msg, FutureWarning)\n"
     ]
    },
    {
     "name": "stdout",
     "output_type": "stream",
     "text": [
      "=======\n",
      "\n",
      "Sitio modelado: VETA (VETA)\n",
      "MAE TEST:  71.74132560589126 MAE TRAIN:  26.725717011145868\n",
      "RMSE Train: 32.908319846972844\n",
      "\n",
      "RMSE Test: 76.60906913452015\n",
      "\n",
      "MAE Train: 26.818630023695437\n",
      "\n",
      "MAE Test: 61.43296907810657\n",
      "\n",
      "R^2(train)= 0.839261210305537\n",
      "R^2_ajt(train)= 0.8279149427976926\n",
      "\n",
      "R^2(test)= -0.03169166905665599\n",
      "R^2_ajt(test)= -0.10451696334300808\n",
      "\n",
      "=======\n",
      "\n"
     ]
    },
    {
     "name": "stderr",
     "output_type": "stream",
     "text": [
      "/usr/local/Caskroom/miniconda/base/envs/dhdsblend2021/lib/python3.8/site-packages/seaborn/distributions.py:2551: FutureWarning: `distplot` is a deprecated function and will be removed in a future version. Please adapt your code to use either `displot` (a figure-level function with similar flexibility) or `histplot` (an axes-level function for histograms).\n",
      "  warnings.warn(msg, FutureWarning)\n",
      "/usr/local/Caskroom/miniconda/base/envs/dhdsblend2021/lib/python3.8/site-packages/seaborn/distributions.py:2551: FutureWarning: `distplot` is a deprecated function and will be removed in a future version. Please adapt your code to use either `displot` (a figure-level function with similar flexibility) or `histplot` (an axes-level function for histograms).\n",
      "  warnings.warn(msg, FutureWarning)\n"
     ]
    },
    {
     "name": "stdout",
     "output_type": "stream",
     "text": [
      "Sitio modelado: COY (COY)\n",
      "MAE TEST:  22.500326194282543 MAE TRAIN:  9.328890624505744\n",
      "RMSE Train: 13.05553780191073\n",
      "\n",
      "RMSE Test: 36.863027162522776\n",
      "\n",
      "MAE Train: 9.462487222794737\n",
      "\n",
      "MAE Test: 25.249093053678116\n",
      "\n",
      "R^2(train)= 0.8287309856851109\n",
      "R^2_ajt(train)= 0.8265990062538052\n",
      "\n",
      "R^2(test)= 0.04012675031977331\n",
      "R^2_ajt(test)= 0.02817812065570402\n",
      "\n"
     ]
    },
    {
     "name": "stderr",
     "output_type": "stream",
     "text": [
      "/usr/local/Caskroom/miniconda/base/envs/dhdsblend2021/lib/python3.8/site-packages/seaborn/distributions.py:2551: FutureWarning: `distplot` is a deprecated function and will be removed in a future version. Please adapt your code to use either `displot` (a figure-level function with similar flexibility) or `histplot` (an axes-level function for histograms).\n",
      "  warnings.warn(msg, FutureWarning)\n",
      "/usr/local/Caskroom/miniconda/base/envs/dhdsblend2021/lib/python3.8/site-packages/seaborn/distributions.py:2551: FutureWarning: `distplot` is a deprecated function and will be removed in a future version. Please adapt your code to use either `displot` (a figure-level function with similar flexibility) or `histplot` (an axes-level function for histograms).\n",
      "  warnings.warn(msg, FutureWarning)\n"
     ]
    },
    {
     "name": "stdout",
     "output_type": "stream",
     "text": [
      "=======\n",
      "\n",
      "Sitio modelado: NP3 (NP3)\n",
      "MAE TEST:  39.60493512231371 MAE TRAIN:  15.27958445917692\n",
      "RMSE Train: 20.619881989511363\n",
      "\n",
      "RMSE Test: 59.151638934577626\n",
      "\n",
      "MAE Train: 15.458520569170632\n",
      "\n",
      "MAE Test: 43.309703638904395\n",
      "\n",
      "R^2(train)= 0.8573027528139545\n",
      "R^2_ajt(train)= 0.8555153133919999\n",
      "\n",
      "R^2(test)= 0.0730289803191585\n",
      "R^2_ajt(test)= 0.061417652306454906\n",
      "\n"
     ]
    },
    {
     "name": "stderr",
     "output_type": "stream",
     "text": [
      "/usr/local/Caskroom/miniconda/base/envs/dhdsblend2021/lib/python3.8/site-packages/seaborn/distributions.py:2551: FutureWarning: `distplot` is a deprecated function and will be removed in a future version. Please adapt your code to use either `displot` (a figure-level function with similar flexibility) or `histplot` (an axes-level function for histograms).\n",
      "  warnings.warn(msg, FutureWarning)\n",
      "/usr/local/Caskroom/miniconda/base/envs/dhdsblend2021/lib/python3.8/site-packages/seaborn/distributions.py:2551: FutureWarning: `distplot` is a deprecated function and will be removed in a future version. Please adapt your code to use either `displot` (a figure-level function with similar flexibility) or `histplot` (an axes-level function for histograms).\n",
      "  warnings.warn(msg, FutureWarning)\n"
     ]
    },
    {
     "name": "stdout",
     "output_type": "stream",
     "text": [
      "=======\n",
      "\n",
      "Sitio modelado: NP4 (NP4)\n",
      "MAE TEST:  37.34148103624401 MAE TRAIN:  13.991893441574977\n",
      "RMSE Train: 20.13327199456512\n",
      "\n",
      "RMSE Test: 40.8664995346176\n",
      "\n",
      "MAE Train: 14.333893606270829\n",
      "\n",
      "MAE Test: 30.98062217584213\n",
      "\n",
      "R^2(train)= 0.8430372908429521\n",
      "R^2_ajt(train)= 0.838977910433718\n",
      "\n",
      "R^2(test)= 0.05376051455840791\n",
      "R^2_ajt(test)= 0.029288803728021895\n",
      "\n",
      "=======\n",
      "\n"
     ]
    },
    {
     "name": "stderr",
     "output_type": "stream",
     "text": [
      "/usr/local/Caskroom/miniconda/base/envs/dhdsblend2021/lib/python3.8/site-packages/seaborn/distributions.py:2551: FutureWarning: `distplot` is a deprecated function and will be removed in a future version. Please adapt your code to use either `displot` (a figure-level function with similar flexibility) or `histplot` (an axes-level function for histograms).\n",
      "  warnings.warn(msg, FutureWarning)\n",
      "/usr/local/Caskroom/miniconda/base/envs/dhdsblend2021/lib/python3.8/site-packages/seaborn/distributions.py:2551: FutureWarning: `distplot` is a deprecated function and will be removed in a future version. Please adapt your code to use either `displot` (a figure-level function with similar flexibility) or `histplot` (an axes-level function for histograms).\n",
      "  warnings.warn(msg, FutureWarning)\n"
     ]
    },
    {
     "name": "stdout",
     "output_type": "stream",
     "text": [
      "Sitio modelado: LIV (LIV)\n",
      "MAE TEST:  45.56964967963718 MAE TRAIN:  17.024118943300067\n",
      "RMSE Train: 21.798188274153045\n",
      "\n",
      "RMSE Test: 52.711486857722704\n",
      "\n",
      "MAE Train: 17.357911298550746\n",
      "\n",
      "MAE Test: 40.262670537777765\n",
      "\n",
      "R^2(train)= 0.8132661950752855\n",
      "R^2_ajt(train)= 0.8010879034497607\n",
      "\n",
      "R^2(test)= 0.11408004061938071\n",
      "R^2_ajt(test)= 0.056302651964122874\n",
      "\n",
      "=======\n",
      "\n"
     ]
    },
    {
     "name": "stderr",
     "output_type": "stream",
     "text": [
      "/usr/local/Caskroom/miniconda/base/envs/dhdsblend2021/lib/python3.8/site-packages/seaborn/distributions.py:2551: FutureWarning: `distplot` is a deprecated function and will be removed in a future version. Please adapt your code to use either `displot` (a figure-level function with similar flexibility) or `histplot` (an axes-level function for histograms).\n",
      "  warnings.warn(msg, FutureWarning)\n",
      "/usr/local/Caskroom/miniconda/base/envs/dhdsblend2021/lib/python3.8/site-packages/seaborn/distributions.py:2551: FutureWarning: `distplot` is a deprecated function and will be removed in a future version. Please adapt your code to use either `displot` (a figure-level function with similar flexibility) or `histplot` (an axes-level function for histograms).\n",
      "  warnings.warn(msg, FutureWarning)\n"
     ]
    },
    {
     "name": "stdout",
     "output_type": "stream",
     "text": [
      "Sitio modelado: CHIN (CHIN)\n",
      "MAE TEST:  53.04950395323938 MAE TRAIN:  19.71327574787075\n",
      "RMSE Train: 25.15086911691622\n",
      "\n",
      "RMSE Test: 74.96101519570837\n",
      "\n",
      "MAE Train: 19.6178112473256\n",
      "\n",
      "MAE Test: 53.778001636757494\n",
      "\n",
      "R^2(train)= 0.847999966219345\n",
      "R^2_ajt(train)= 0.8425388871613575\n",
      "\n",
      "R^2(test)= -0.2706490139587947\n",
      "R^2_ajt(test)= -0.31630107434054766\n",
      "\n",
      "=======\n",
      "\n"
     ]
    },
    {
     "name": "stderr",
     "output_type": "stream",
     "text": [
      "/usr/local/Caskroom/miniconda/base/envs/dhdsblend2021/lib/python3.8/site-packages/seaborn/distributions.py:2551: FutureWarning: `distplot` is a deprecated function and will be removed in a future version. Please adapt your code to use either `displot` (a figure-level function with similar flexibility) or `histplot` (an axes-level function for histograms).\n",
      "  warnings.warn(msg, FutureWarning)\n",
      "/usr/local/Caskroom/miniconda/base/envs/dhdsblend2021/lib/python3.8/site-packages/seaborn/distributions.py:2551: FutureWarning: `distplot` is a deprecated function and will be removed in a future version. Please adapt your code to use either `displot` (a figure-level function with similar flexibility) or `histplot` (an axes-level function for histograms).\n",
      "  warnings.warn(msg, FutureWarning)\n"
     ]
    },
    {
     "name": "stdout",
     "output_type": "stream",
     "text": [
      "Sitio modelado: STO-D (STO-D)\n",
      "MAE TEST:  36.460132213594854 MAE TRAIN:  12.979626022627889\n",
      "RMSE Train: 18.584810436438545\n",
      "\n",
      "RMSE Test: 38.1755661228462\n",
      "\n",
      "MAE Train: 12.82607847774146\n",
      "\n",
      "MAE Test: 27.195846774120238\n",
      "\n",
      "R^2(train)= 0.8563813006365208\n",
      "R^2_ajt(train)= 0.8508575045071562\n",
      "\n",
      "R^2(test)= 0.06472875540457723\n",
      "R^2_ajt(test)= 0.028756784458599527\n",
      "\n",
      "=======\n",
      "\n"
     ]
    },
    {
     "name": "stderr",
     "output_type": "stream",
     "text": [
      "/usr/local/Caskroom/miniconda/base/envs/dhdsblend2021/lib/python3.8/site-packages/seaborn/distributions.py:2551: FutureWarning: `distplot` is a deprecated function and will be removed in a future version. Please adapt your code to use either `displot` (a figure-level function with similar flexibility) or `histplot` (an axes-level function for histograms).\n",
      "  warnings.warn(msg, FutureWarning)\n",
      "/usr/local/Caskroom/miniconda/base/envs/dhdsblend2021/lib/python3.8/site-packages/seaborn/distributions.py:2551: FutureWarning: `distplot` is a deprecated function and will be removed in a future version. Please adapt your code to use either `displot` (a figure-level function with similar flexibility) or `histplot` (an axes-level function for histograms).\n",
      "  warnings.warn(msg, FutureWarning)\n"
     ]
    },
    {
     "name": "stdout",
     "output_type": "stream",
     "text": [
      "Sitio modelado: OROS (OROS)\n",
      "MAE TEST:  53.75264566888889 MAE TRAIN:  18.460664684289565\n",
      "RMSE Train: 26.138534927491996\n",
      "\n",
      "RMSE Test: 74.08882201893094\n",
      "\n",
      "MAE Train: 18.785165923028885\n",
      "\n",
      "MAE Test: 48.188745377777785\n",
      "\n",
      "R^2(train)= 0.8523515751582942\n",
      "R^2_ajt(train)= 0.8414146547996493\n",
      "\n",
      "R^2(test)= 0.1658937969698585\n",
      "R^2_ajt(test)= 0.10410815230095927\n",
      "\n"
     ]
    },
    {
     "name": "stderr",
     "output_type": "stream",
     "text": [
      "/usr/local/Caskroom/miniconda/base/envs/dhdsblend2021/lib/python3.8/site-packages/seaborn/distributions.py:2551: FutureWarning: `distplot` is a deprecated function and will be removed in a future version. Please adapt your code to use either `displot` (a figure-level function with similar flexibility) or `histplot` (an axes-level function for histograms).\n",
      "  warnings.warn(msg, FutureWarning)\n",
      "/usr/local/Caskroom/miniconda/base/envs/dhdsblend2021/lib/python3.8/site-packages/seaborn/distributions.py:2551: FutureWarning: `distplot` is a deprecated function and will be removed in a future version. Please adapt your code to use either `displot` (a figure-level function with similar flexibility) or `histplot` (an axes-level function for histograms).\n",
      "  warnings.warn(msg, FutureWarning)\n"
     ]
    },
    {
     "name": "stdout",
     "output_type": "stream",
     "text": [
      "=======\n",
      "\n",
      "Sitio modelado: CIEN (CIEN)\n",
      "MAE TEST:  68.19696693533334 MAE TRAIN:  23.92450069407353\n",
      "RMSE Train: 30.86059294528552\n",
      "\n",
      "RMSE Test: 59.04881734209581\n",
      "\n",
      "MAE Train: 24.418516559770108\n",
      "\n",
      "MAE Test: 45.615039476923066\n",
      "\n",
      "R^2(train)= 0.8562751293792807\n",
      "R^2_ajt(train)= 0.8450757888114325\n",
      "\n",
      "R^2(test)= 0.17383908586486763\n",
      "R^2_ajt(test)= 0.10946291073745462\n",
      "\n",
      "=======\n",
      "\n"
     ]
    },
    {
     "name": "stderr",
     "output_type": "stream",
     "text": [
      "/usr/local/Caskroom/miniconda/base/envs/dhdsblend2021/lib/python3.8/site-packages/seaborn/distributions.py:2551: FutureWarning: `distplot` is a deprecated function and will be removed in a future version. Please adapt your code to use either `displot` (a figure-level function with similar flexibility) or `histplot` (an axes-level function for histograms).\n",
      "  warnings.warn(msg, FutureWarning)\n",
      "/usr/local/Caskroom/miniconda/base/envs/dhdsblend2021/lib/python3.8/site-packages/seaborn/distributions.py:2551: FutureWarning: `distplot` is a deprecated function and will be removed in a future version. Please adapt your code to use either `displot` (a figure-level function with similar flexibility) or `histplot` (an axes-level function for histograms).\n",
      "  warnings.warn(msg, FutureWarning)\n"
     ]
    },
    {
     "name": "stdout",
     "output_type": "stream",
     "text": [
      "Sitio modelado: DOMO (DOMO)\n",
      "MAE TEST:  52.86056925216487 MAE TRAIN:  19.68192558992956\n",
      "RMSE Train: 24.90073293926165\n",
      "\n",
      "RMSE Test: 74.09600804674633\n",
      "\n",
      "MAE Train: 19.315676920597742\n",
      "\n",
      "MAE Test: 61.390657155955694\n",
      "\n",
      "R^2(train)= 0.8407943911158003\n",
      "R^2_ajt(train)= 0.8311455663349397\n",
      "\n",
      "R^2(test)= 0.0478446362277305\n",
      "R^2_ajt(test)= -0.009861749455437385\n",
      "\n",
      "=======\n",
      "\n"
     ]
    },
    {
     "name": "stderr",
     "output_type": "stream",
     "text": [
      "/usr/local/Caskroom/miniconda/base/envs/dhdsblend2021/lib/python3.8/site-packages/seaborn/distributions.py:2551: FutureWarning: `distplot` is a deprecated function and will be removed in a future version. Please adapt your code to use either `displot` (a figure-level function with similar flexibility) or `histplot` (an axes-level function for histograms).\n",
      "  warnings.warn(msg, FutureWarning)\n",
      "/usr/local/Caskroom/miniconda/base/envs/dhdsblend2021/lib/python3.8/site-packages/seaborn/distributions.py:2551: FutureWarning: `distplot` is a deprecated function and will be removed in a future version. Please adapt your code to use either `displot` (a figure-level function with similar flexibility) or `histplot` (an axes-level function for histograms).\n",
      "  warnings.warn(msg, FutureWarning)\n"
     ]
    },
    {
     "name": "stdout",
     "output_type": "stream",
     "text": [
      "Sitio modelado: OROS2 (OROS2)\n",
      "MAE TEST:  36.562 MAE TRAIN:  13.255462450592887\n",
      "RMSE Train: 20.01762756505709\n",
      "\n",
      "RMSE Test: 49.53938818574753\n",
      "\n",
      "MAE Train: 13.172\n",
      "\n",
      "MAE Test: 41.324848484848495\n",
      "\n",
      "R^2(train)= 0.8423611233503283\n",
      "R^2_ajt(train)= 0.8097461833538445\n",
      "\n",
      "R^2(test)= -0.3435903101161013\n",
      "R^2_ajt(test)= -0.6215745122090879\n",
      "\n",
      "=======\n",
      "\n"
     ]
    },
    {
     "name": "stderr",
     "output_type": "stream",
     "text": [
      "/usr/local/Caskroom/miniconda/base/envs/dhdsblend2021/lib/python3.8/site-packages/seaborn/distributions.py:2551: FutureWarning: `distplot` is a deprecated function and will be removed in a future version. Please adapt your code to use either `displot` (a figure-level function with similar flexibility) or `histplot` (an axes-level function for histograms).\n",
      "  warnings.warn(msg, FutureWarning)\n",
      "/usr/local/Caskroom/miniconda/base/envs/dhdsblend2021/lib/python3.8/site-packages/seaborn/distributions.py:2551: FutureWarning: `distplot` is a deprecated function and will be removed in a future version. Please adapt your code to use either `displot` (a figure-level function with similar flexibility) or `histplot` (an axes-level function for histograms).\n",
      "  warnings.warn(msg, FutureWarning)\n"
     ]
    },
    {
     "data": {
      "image/png": "[encoded data removed]",
      "text/plain": [
       "<Figure size 864x288 with 2 Axes>"
      ]
     },
     "metadata": {
      "needs_background": "light"
     },
     "output_type": "display_data"
    },
    {
     "data": {
      "image/png": "[encoded data removed]",
      "text/plain": [
       "<Figure size 864x288 with 2 Axes>"
      ]
     },
     "metadata": {
      "needs_background": "light"
     },
     "output_type": "display_data"
    },
    {
     "data": {
      "image/png": "[encoded data removed]",
      "text/plain": [
       "<Figure size 864x288 with 2 Axes>"
      ]
     },
     "metadata": {
      "needs_background": "light"
     },
     "output_type": "display_data"
    },
    {
     "data": {
      "image/png": "[encoded data removed]",
      "text/plain": [
       "<Figure size 864x288 with 2 Axes>"
      ]
     },
     "metadata": {
      "needs_background": "light"
     },
     "output_type": "display_data"
    },
    {
     "data": {
      "image/png": "[encoded data removed]",
      "text/plain": [
       "<Figure size 864x288 with 2 Axes>"
      ]
     },
     "metadata": {
      "needs_background": "light"
     },
     "output_type": "display_data"
    },
    {
     "data": {
      "image/png": "[encoded data removed]",
      "text/plain": [
       "<Figure size 864x288 with 2 Axes>"
      ]
     },
     "metadata": {
      "needs_background": "light"
     },
     "output_type": "display_data"
    },
    {
     "data": {
      "image/png": "[encoded data removed]",
      "text/plain": [
       "<Figure size 864x288 with 2 Axes>"
      ]
     },
     "metadata": {
      "needs_background": "light"
     },
     "output_type": "display_data"
    },
    {
     "data": {
      "image/png": "[encoded data removed]",
      "text/plain": [
       "<Figure size 864x288 with 2 Axes>"
      ]
     },
     "metadata": {
      "needs_background": "light"
     },
     "output_type": "display_data"
    },
    {
     "data": {
      "image/png": "[encoded data removed]",
      "text/plain": [
       "<Figure size 864x288 with 2 Axes>"
      ]
     },
     "metadata": {
      "needs_background": "light"
     },
     "output_type": "display_data"
    },
    {
     "data": {
      "image/png": "[encoded data removed]",
      "text/plain": [
       "<Figure size 864x288 with 2 Axes>"
      ]
     },
     "metadata": {
      "needs_background": "light"
     },
     "output_type": "display_data"
    },
    {
     "data": {
      "image/png": "[encoded data removed]",
      "text/plain": [
       "<Figure size 864x288 with 2 Axes>"
      ]
     },
     "metadata": {
      "needs_background": "light"
     },
     "output_type": "display_data"
    },
    {
     "data": {
      "image/png": "[encoded data removed]",
      "text/plain": [
       "<Figure size 864x288 with 2 Axes>"
      ]
     },
     "metadata": {
      "needs_background": "light"
     },
     "output_type": "display_data"
    }
   ],
   "source": [
    "for sitio in ['20V (20V)', 'VETA (VETA)', 'COY (COY)', 'NP3 (NP3)', 'NP4 (NP4)','LIV (LIV)', 'CHIN (CHIN)', 'STO-D (STO-D)', 'OROS (OROS)','CIEN (CIEN)', 'DOMO (DOMO)',  'OROS2 (OROS2)']:\n",
    "    dataf=data.loc[data['sitio']==sitio]\n",
    "    X = pd.concat([ dataf.drop(['sitio', 'fecha', 'valor'], axis=1), pd.get_dummies(dataf['sitio'])], axis=1)\n",
    "    y  = dataf['valor']\n",
    "    X_train, X_test, y_train, y_test = train_test_split(X, y, test_size=0.3, random_state=42)\n",
    "    rf_op = RandomForestRegressor(n_estimators=150,\n",
    "                           max_depth=14,\n",
    "                           max_features=3)\n",
    "    rf_op.fit(X_train,y_train)\n",
    "    print('Sitio modelado: {}'.format(sitio))\n",
    "    eval_model_CV(rf_op,\"RandomForest, optimizado\", X_train, y_train,10)\n",
    "    model_ev(X_train,X_test,y_train,y_test, rf_op)\n",
    "    print('=======\\n')"
   ]
  },
  {
   "cell_type": "code",
   "execution_count": 118,
   "metadata": {},
   "outputs": [
    {
     "data": {
      "text/plain": [
       "20V (20V)          522\n",
       "NP3 (NP3)          499\n",
       "COY (COY)          497\n",
       "NP4 (NP4)          240\n",
       "CHIN (CHIN)        206\n",
       "STO-D (STO-D)      166\n",
       "VETA (VETA)        125\n",
       "DOMO (DOMO)        119\n",
       "LIV (LIV)          100\n",
       "OROS (OROS)         95\n",
       "CIEN (CIEN)         86\n",
       "OROS2 (OROS2)       36\n",
       "DCOLAS (DCOLAS)     15\n",
       "S-MINA (S-MINA)      5\n",
       "Name: sitio, dtype: int64"
      ]
     },
     "execution_count": 118,
     "metadata": {},
     "output_type": "execute_result"
    }
   ],
   "source": [
    "data['sitio'].value_counts()"
   ]
  },
  {
   "cell_type": "code",
   "execution_count": 9,
   "metadata": {},
   "outputs": [],
   "source": [
    "data = pd.read_json('./datalake/input_to_model.json')"
   ]
  },
  {
   "cell_type": "code",
   "execution_count": 10,
   "metadata": {},
   "outputs": [
    {
     "data": {
      "text/html": [
       "<div>\n",
       "<style scoped>\n",
       "    .dataframe tbody tr th:only-of-type {\n",
       "        vertical-align: middle;\n",
       "    }\n",
       "\n",
       "    .dataframe tbody tr th {\n",
       "        vertical-align: top;\n",
       "    }\n",
       "\n",
       "    .dataframe thead th {\n",
       "        text-align: right;\n",
       "    }\n",
       "</style>\n",
       "<table border=\"1\" class=\"dataframe\">\n",
       "  <thead>\n",
       "    <tr style=\"text-align: right;\">\n",
       "      <th></th>\n",
       "      <th>fecha</th>\n",
       "      <th>temp_out</th>\n",
       "      <th>hum_out</th>\n",
       "      <th>rainfall_mm</th>\n",
       "      <th>wind_speed_avg</th>\n",
       "      <th>wind_speed_hi</th>\n",
       "      <th>valor</th>\n",
       "      <th>sitio</th>\n",
       "    </tr>\n",
       "  </thead>\n",
       "  <tbody>\n",
       "    <tr>\n",
       "      <th>0</th>\n",
       "      <td>2008-02-26</td>\n",
       "      <td>8.860417</td>\n",
       "      <td>53.791667</td>\n",
       "      <td>0</td>\n",
       "      <td>9.020833</td>\n",
       "      <td>88</td>\n",
       "      <td>33.0</td>\n",
       "      <td>20V (20V)</td>\n",
       "    </tr>\n",
       "    <tr>\n",
       "      <th>1</th>\n",
       "      <td>2008-02-26</td>\n",
       "      <td>8.860417</td>\n",
       "      <td>53.791667</td>\n",
       "      <td>0</td>\n",
       "      <td>9.020833</td>\n",
       "      <td>88</td>\n",
       "      <td>33.0</td>\n",
       "      <td>20V (20V)</td>\n",
       "    </tr>\n",
       "    <tr>\n",
       "      <th>2</th>\n",
       "      <td>2008-02-26</td>\n",
       "      <td>8.860417</td>\n",
       "      <td>53.791667</td>\n",
       "      <td>0</td>\n",
       "      <td>9.020833</td>\n",
       "      <td>88</td>\n",
       "      <td>33.0</td>\n",
       "      <td>20V (20V)</td>\n",
       "    </tr>\n",
       "    <tr>\n",
       "      <th>3</th>\n",
       "      <td>2008-02-26</td>\n",
       "      <td>8.860417</td>\n",
       "      <td>53.791667</td>\n",
       "      <td>0</td>\n",
       "      <td>9.020833</td>\n",
       "      <td>88</td>\n",
       "      <td>33.0</td>\n",
       "      <td>20V (20V)</td>\n",
       "    </tr>\n",
       "    <tr>\n",
       "      <th>4</th>\n",
       "      <td>2008-02-26</td>\n",
       "      <td>8.860417</td>\n",
       "      <td>53.791667</td>\n",
       "      <td>0</td>\n",
       "      <td>9.020833</td>\n",
       "      <td>88</td>\n",
       "      <td>33.0</td>\n",
       "      <td>20V (20V)</td>\n",
       "    </tr>\n",
       "    <tr>\n",
       "      <th>...</th>\n",
       "      <td>...</td>\n",
       "      <td>...</td>\n",
       "      <td>...</td>\n",
       "      <td>...</td>\n",
       "      <td>...</td>\n",
       "      <td>...</td>\n",
       "      <td>...</td>\n",
       "      <td>...</td>\n",
       "    </tr>\n",
       "    <tr>\n",
       "      <th>32527</th>\n",
       "      <td>2022-09-26</td>\n",
       "      <td>1.970833</td>\n",
       "      <td>14.250000</td>\n",
       "      <td>0</td>\n",
       "      <td>16.979167</td>\n",
       "      <td>67</td>\n",
       "      <td>10.0</td>\n",
       "      <td>DOMO (DOMO)</td>\n",
       "    </tr>\n",
       "    <tr>\n",
       "      <th>32528</th>\n",
       "      <td>2022-09-26</td>\n",
       "      <td>1.970833</td>\n",
       "      <td>14.250000</td>\n",
       "      <td>0</td>\n",
       "      <td>16.979167</td>\n",
       "      <td>67</td>\n",
       "      <td>5.0</td>\n",
       "      <td>20V (20V)</td>\n",
       "    </tr>\n",
       "    <tr>\n",
       "      <th>32529</th>\n",
       "      <td>2022-09-26</td>\n",
       "      <td>1.970833</td>\n",
       "      <td>14.250000</td>\n",
       "      <td>0</td>\n",
       "      <td>16.979167</td>\n",
       "      <td>67</td>\n",
       "      <td>10.0</td>\n",
       "      <td>DOMO (DOMO)</td>\n",
       "    </tr>\n",
       "    <tr>\n",
       "      <th>32530</th>\n",
       "      <td>2022-09-26</td>\n",
       "      <td>1.970833</td>\n",
       "      <td>14.250000</td>\n",
       "      <td>0</td>\n",
       "      <td>16.979167</td>\n",
       "      <td>67</td>\n",
       "      <td>124.0</td>\n",
       "      <td>OROS (OROS)</td>\n",
       "    </tr>\n",
       "    <tr>\n",
       "      <th>32531</th>\n",
       "      <td>2022-09-26</td>\n",
       "      <td>1.970833</td>\n",
       "      <td>14.250000</td>\n",
       "      <td>0</td>\n",
       "      <td>16.979167</td>\n",
       "      <td>67</td>\n",
       "      <td>72.0</td>\n",
       "      <td>STO-D (STO-D)</td>\n",
       "    </tr>\n",
       "  </tbody>\n",
       "</table>\n",
       "<p>32532 rows × 8 columns</p>\n",
       "</div>"
      ],
      "text/plain": [
       "            fecha  temp_out    hum_out  rainfall_mm  wind_speed_avg  \\\n",
       "0      2008-02-26  8.860417  53.791667            0        9.020833   \n",
       "1      2008-02-26  8.860417  53.791667            0        9.020833   \n",
       "2      2008-02-26  8.860417  53.791667            0        9.020833   \n",
       "3      2008-02-26  8.860417  53.791667            0        9.020833   \n",
       "4      2008-02-26  8.860417  53.791667            0        9.020833   \n",
       "...           ...       ...        ...          ...             ...   \n",
       "32527  2022-09-26  1.970833  14.250000            0       16.979167   \n",
       "32528  2022-09-26  1.970833  14.250000            0       16.979167   \n",
       "32529  2022-09-26  1.970833  14.250000            0       16.979167   \n",
       "32530  2022-09-26  1.970833  14.250000            0       16.979167   \n",
       "32531  2022-09-26  1.970833  14.250000            0       16.979167   \n",
       "\n",
       "       wind_speed_hi  valor          sitio  \n",
       "0                 88   33.0      20V (20V)  \n",
       "1                 88   33.0      20V (20V)  \n",
       "2                 88   33.0      20V (20V)  \n",
       "3                 88   33.0      20V (20V)  \n",
       "4                 88   33.0      20V (20V)  \n",
       "...              ...    ...            ...  \n",
       "32527             67   10.0    DOMO (DOMO)  \n",
       "32528             67    5.0      20V (20V)  \n",
       "32529             67   10.0    DOMO (DOMO)  \n",
       "32530             67  124.0    OROS (OROS)  \n",
       "32531             67   72.0  STO-D (STO-D)  \n",
       "\n",
       "[32532 rows x 8 columns]"
      ]
     },
     "execution_count": 10,
     "metadata": {},
     "output_type": "execute_result"
    }
   ],
   "source": [
    "data"
   ]
  },
  {
   "cell_type": "code",
   "execution_count": 11,
   "metadata": {},
   "outputs": [],
   "source": [
    "categorical_transformer = OneHotEncoder(handle_unknown=\"ignore\")"
   ]
  },
  {
   "cell_type": "code",
   "execution_count": 36,
   "metadata": {},
   "outputs": [
    {
     "data": {
      "text/plain": [
       "array([['20V (20V)'],\n",
       "       ['20V (20V)'],\n",
       "       ['20V (20V)'],\n",
       "       ...,\n",
       "       ['DOMO (DOMO)'],\n",
       "       ['OROS (OROS)'],\n",
       "       ['STO-D (STO-D)']], dtype=object)"
      ]
     },
     "execution_count": 36,
     "metadata": {},
     "output_type": "execute_result"
    }
   ],
   "source": [
    "data['sitio'].values.reshape(-1, 1)"
   ]
  },
  {
   "cell_type": "code",
   "execution_count": 37,
   "metadata": {},
   "outputs": [
    {
     "data": {
      "text/plain": [
       "OneHotEncoder(drop='if_binary')"
      ]
     },
     "execution_count": 37,
     "metadata": {},
     "output_type": "execute_result"
    }
   ],
   "source": [
    "OneHotEncoder(drop='if_binary').fit(data['sitio'].values.reshape(-1, 1))"
   ]
  },
  {
   "cell_type": "code",
   "execution_count": 18,
   "metadata": {},
   "outputs": [],
   "source": [
    "X = data.drop(['valor', 'fecha'], axis=1)"
   ]
  },
  {
   "cell_type": "code",
   "execution_count": 19,
   "metadata": {},
   "outputs": [
    {
     "data": {
      "text/html": [
       "<div>\n",
       "<style scoped>\n",
       "    .dataframe tbody tr th:only-of-type {\n",
       "        vertical-align: middle;\n",
       "    }\n",
       "\n",
       "    .dataframe tbody tr th {\n",
       "        vertical-align: top;\n",
       "    }\n",
       "\n",
       "    .dataframe thead th {\n",
       "        text-align: right;\n",
       "    }\n",
       "</style>\n",
       "<table border=\"1\" class=\"dataframe\">\n",
       "  <thead>\n",
       "    <tr style=\"text-align: right;\">\n",
       "      <th></th>\n",
       "      <th>temp_out</th>\n",
       "      <th>hum_out</th>\n",
       "      <th>rainfall_mm</th>\n",
       "      <th>wind_speed_avg</th>\n",
       "      <th>wind_speed_hi</th>\n",
       "      <th>sitio</th>\n",
       "    </tr>\n",
       "  </thead>\n",
       "  <tbody>\n",
       "    <tr>\n",
       "      <th>0</th>\n",
       "      <td>8.860417</td>\n",
       "      <td>53.791667</td>\n",
       "      <td>0</td>\n",
       "      <td>9.020833</td>\n",
       "      <td>88</td>\n",
       "      <td>20V (20V)</td>\n",
       "    </tr>\n",
       "    <tr>\n",
       "      <th>1</th>\n",
       "      <td>8.860417</td>\n",
       "      <td>53.791667</td>\n",
       "      <td>0</td>\n",
       "      <td>9.020833</td>\n",
       "      <td>88</td>\n",
       "      <td>20V (20V)</td>\n",
       "    </tr>\n",
       "    <tr>\n",
       "      <th>2</th>\n",
       "      <td>8.860417</td>\n",
       "      <td>53.791667</td>\n",
       "      <td>0</td>\n",
       "      <td>9.020833</td>\n",
       "      <td>88</td>\n",
       "      <td>20V (20V)</td>\n",
       "    </tr>\n",
       "    <tr>\n",
       "      <th>3</th>\n",
       "      <td>8.860417</td>\n",
       "      <td>53.791667</td>\n",
       "      <td>0</td>\n",
       "      <td>9.020833</td>\n",
       "      <td>88</td>\n",
       "      <td>20V (20V)</td>\n",
       "    </tr>\n",
       "    <tr>\n",
       "      <th>4</th>\n",
       "      <td>8.860417</td>\n",
       "      <td>53.791667</td>\n",
       "      <td>0</td>\n",
       "      <td>9.020833</td>\n",
       "      <td>88</td>\n",
       "      <td>20V (20V)</td>\n",
       "    </tr>\n",
       "    <tr>\n",
       "      <th>...</th>\n",
       "      <td>...</td>\n",
       "      <td>...</td>\n",
       "      <td>...</td>\n",
       "      <td>...</td>\n",
       "      <td>...</td>\n",
       "      <td>...</td>\n",
       "    </tr>\n",
       "    <tr>\n",
       "      <th>32527</th>\n",
       "      <td>1.970833</td>\n",
       "      <td>14.250000</td>\n",
       "      <td>0</td>\n",
       "      <td>16.979167</td>\n",
       "      <td>67</td>\n",
       "      <td>DOMO (DOMO)</td>\n",
       "    </tr>\n",
       "    <tr>\n",
       "      <th>32528</th>\n",
       "      <td>1.970833</td>\n",
       "      <td>14.250000</td>\n",
       "      <td>0</td>\n",
       "      <td>16.979167</td>\n",
       "      <td>67</td>\n",
       "      <td>20V (20V)</td>\n",
       "    </tr>\n",
       "    <tr>\n",
       "      <th>32529</th>\n",
       "      <td>1.970833</td>\n",
       "      <td>14.250000</td>\n",
       "      <td>0</td>\n",
       "      <td>16.979167</td>\n",
       "      <td>67</td>\n",
       "      <td>DOMO (DOMO)</td>\n",
       "    </tr>\n",
       "    <tr>\n",
       "      <th>32530</th>\n",
       "      <td>1.970833</td>\n",
       "      <td>14.250000</td>\n",
       "      <td>0</td>\n",
       "      <td>16.979167</td>\n",
       "      <td>67</td>\n",
       "      <td>OROS (OROS)</td>\n",
       "    </tr>\n",
       "    <tr>\n",
       "      <th>32531</th>\n",
       "      <td>1.970833</td>\n",
       "      <td>14.250000</td>\n",
       "      <td>0</td>\n",
       "      <td>16.979167</td>\n",
       "      <td>67</td>\n",
       "      <td>STO-D (STO-D)</td>\n",
       "    </tr>\n",
       "  </tbody>\n",
       "</table>\n",
       "<p>32532 rows × 6 columns</p>\n",
       "</div>"
      ],
      "text/plain": [
       "       temp_out    hum_out  rainfall_mm  wind_speed_avg  wind_speed_hi  \\\n",
       "0      8.860417  53.791667            0        9.020833             88   \n",
       "1      8.860417  53.791667            0        9.020833             88   \n",
       "2      8.860417  53.791667            0        9.020833             88   \n",
       "3      8.860417  53.791667            0        9.020833             88   \n",
       "4      8.860417  53.791667            0        9.020833             88   \n",
       "...         ...        ...          ...             ...            ...   \n",
       "32527  1.970833  14.250000            0       16.979167             67   \n",
       "32528  1.970833  14.250000            0       16.979167             67   \n",
       "32529  1.970833  14.250000            0       16.979167             67   \n",
       "32530  1.970833  14.250000            0       16.979167             67   \n",
       "32531  1.970833  14.250000            0       16.979167             67   \n",
       "\n",
       "               sitio  \n",
       "0          20V (20V)  \n",
       "1          20V (20V)  \n",
       "2          20V (20V)  \n",
       "3          20V (20V)  \n",
       "4          20V (20V)  \n",
       "...              ...  \n",
       "32527    DOMO (DOMO)  \n",
       "32528      20V (20V)  \n",
       "32529    DOMO (DOMO)  \n",
       "32530    OROS (OROS)  \n",
       "32531  STO-D (STO-D)  \n",
       "\n",
       "[32532 rows x 6 columns]"
      ]
     },
     "execution_count": 19,
     "metadata": {},
     "output_type": "execute_result"
    }
   ],
   "source": [
    "X"
   ]
  },
  {
   "cell_type": "code",
   "execution_count": 21,
   "metadata": {},
   "outputs": [],
   "source": [
    "y = data['valor']"
   ]
  },
  {
   "cell_type": "code",
   "execution_count": 22,
   "metadata": {},
   "outputs": [
    {
     "data": {
      "text/plain": [
       "0         33.0\n",
       "1         33.0\n",
       "2         33.0\n",
       "3         33.0\n",
       "4         33.0\n",
       "         ...  \n",
       "32527     10.0\n",
       "32528      5.0\n",
       "32529     10.0\n",
       "32530    124.0\n",
       "32531     72.0\n",
       "Name: valor, Length: 32532, dtype: float64"
      ]
     },
     "execution_count": 22,
     "metadata": {},
     "output_type": "execute_result"
    }
   ],
   "source": [
    "y"
   ]
  },
  {
   "cell_type": "code",
   "execution_count": 23,
   "metadata": {},
   "outputs": [],
   "source": [
    "X_train, X_test, y_train, y_test = train_test_split(X, y, test_size=0.3, random_state=42)"
   ]
  },
  {
   "cell_type": "code",
   "execution_count": 31,
   "metadata": {},
   "outputs": [
    {
     "name": "stdout",
     "output_type": "stream",
     "text": [
      "RMSE Train: 160.22687325738374\n",
      "\n",
      "RMSE Test: 166.6903667815868\n",
      "\n",
      "MAE Train: 73.15142806300464\n",
      "\n",
      "MAE Test: 74.43736510890382\n",
      "\n",
      "R^2(train)= 0.07532584020414745\n",
      "R^2_ajt(train)= 0.0751552623422328\n",
      "\n",
      "R^2(test)= 0.07586321828439813\n",
      "R^2_ajt(test)= 0.07569273955448907\n",
      "\n"
     ]
    },
    {
     "name": "stderr",
     "output_type": "stream",
     "text": [
      "/usr/local/Caskroom/miniconda/base/envs/dhdsblend2021/lib/python3.8/site-packages/seaborn/distributions.py:2551: FutureWarning: `distplot` is a deprecated function and will be removed in a future version. Please adapt your code to use either `displot` (a figure-level function with similar flexibility) or `histplot` (an axes-level function for histograms).\n",
      "  warnings.warn(msg, FutureWarning)\n",
      "/usr/local/Caskroom/miniconda/base/envs/dhdsblend2021/lib/python3.8/site-packages/seaborn/distributions.py:2551: FutureWarning: `distplot` is a deprecated function and will be removed in a future version. Please adapt your code to use either `displot` (a figure-level function with similar flexibility) or `histplot` (an axes-level function for histograms).\n",
      "  warnings.warn(msg, FutureWarning)\n"
     ]
    },
    {
     "data": {
      "image/png": "[encoded data removed]",
      "text/plain": [
       "<Figure size 864x288 with 2 Axes>"
      ]
     },
     "metadata": {
      "needs_background": "light"
     },
     "output_type": "display_data"
    }
   ],
   "source": [
    "model_ev(X_train,X_test,y_train,y_test, regresor)"
   ]
  }
 ],
 "metadata": {
  "kernelspec": {
   "display_name": "Python 3.8.13",
   "language": "python",
   "name": "python3"
  },
  "language_info": {
   "codemirror_mode": {
    "name": "ipython",
    "version": 3
   },
   "file_extension": ".py",
   "mimetype": "text/x-python",
   "name": "python",
   "nbconvert_exporter": "python",
   "pygments_lexer": "ipython3",
   "version": "3.8.13"
  },
  "orig_nbformat": 4,
  "vscode": {
   "interpreter": {
    "hash": "d8640428ed65ace219c2cd70f99da9356404a09732ea7ac413c5d9f431e79dd4"
   }
  }
 },
 "nbformat": 4,
 "nbformat_minor": 2
}
